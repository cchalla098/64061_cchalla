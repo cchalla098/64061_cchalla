{
  "nbformat": 4,
  "nbformat_minor": 0,
  "metadata": {
    "colab": {
      "provenance": [],
      "gpuType": "T4"
    },
    "kernelspec": {
      "name": "python3",
      "display_name": "Python 3"
    },
    "language_info": {
      "name": "python"
    },
    "accelerator": "GPU"
  },
  "cells": [
    {
      "cell_type": "code",
      "source": [
        "from google.colab import files\n",
        "files.upload()"
      ],
      "metadata": {
        "id": "KrYCll9gYwqP",
        "colab": {
          "base_uri": "https://localhost:8080/",
          "height": 90
        },
        "outputId": "05f315e2-ec47-4228-d411-0f300c0be986"
      },
      "execution_count": 1,
      "outputs": [
        {
          "output_type": "display_data",
          "data": {
            "text/plain": [
              "<IPython.core.display.HTML object>"
            ],
            "text/html": [
              "\n",
              "     <input type=\"file\" id=\"files-73f60379-31c6-4d47-9521-47b3c0b1b68c\" name=\"files[]\" multiple disabled\n",
              "        style=\"border:none\" />\n",
              "     <output id=\"result-73f60379-31c6-4d47-9521-47b3c0b1b68c\">\n",
              "      Upload widget is only available when the cell has been executed in the\n",
              "      current browser session. Please rerun this cell to enable.\n",
              "      </output>\n",
              "      <script>// Copyright 2017 Google LLC\n",
              "//\n",
              "// Licensed under the Apache License, Version 2.0 (the \"License\");\n",
              "// you may not use this file except in compliance with the License.\n",
              "// You may obtain a copy of the License at\n",
              "//\n",
              "//      http://www.apache.org/licenses/LICENSE-2.0\n",
              "//\n",
              "// Unless required by applicable law or agreed to in writing, software\n",
              "// distributed under the License is distributed on an \"AS IS\" BASIS,\n",
              "// WITHOUT WARRANTIES OR CONDITIONS OF ANY KIND, either express or implied.\n",
              "// See the License for the specific language governing permissions and\n",
              "// limitations under the License.\n",
              "\n",
              "/**\n",
              " * @fileoverview Helpers for google.colab Python module.\n",
              " */\n",
              "(function(scope) {\n",
              "function span(text, styleAttributes = {}) {\n",
              "  const element = document.createElement('span');\n",
              "  element.textContent = text;\n",
              "  for (const key of Object.keys(styleAttributes)) {\n",
              "    element.style[key] = styleAttributes[key];\n",
              "  }\n",
              "  return element;\n",
              "}\n",
              "\n",
              "// Max number of bytes which will be uploaded at a time.\n",
              "const MAX_PAYLOAD_SIZE = 100 * 1024;\n",
              "\n",
              "function _uploadFiles(inputId, outputId) {\n",
              "  const steps = uploadFilesStep(inputId, outputId);\n",
              "  const outputElement = document.getElementById(outputId);\n",
              "  // Cache steps on the outputElement to make it available for the next call\n",
              "  // to uploadFilesContinue from Python.\n",
              "  outputElement.steps = steps;\n",
              "\n",
              "  return _uploadFilesContinue(outputId);\n",
              "}\n",
              "\n",
              "// This is roughly an async generator (not supported in the browser yet),\n",
              "// where there are multiple asynchronous steps and the Python side is going\n",
              "// to poll for completion of each step.\n",
              "// This uses a Promise to block the python side on completion of each step,\n",
              "// then passes the result of the previous step as the input to the next step.\n",
              "function _uploadFilesContinue(outputId) {\n",
              "  const outputElement = document.getElementById(outputId);\n",
              "  const steps = outputElement.steps;\n",
              "\n",
              "  const next = steps.next(outputElement.lastPromiseValue);\n",
              "  return Promise.resolve(next.value.promise).then((value) => {\n",
              "    // Cache the last promise value to make it available to the next\n",
              "    // step of the generator.\n",
              "    outputElement.lastPromiseValue = value;\n",
              "    return next.value.response;\n",
              "  });\n",
              "}\n",
              "\n",
              "/**\n",
              " * Generator function which is called between each async step of the upload\n",
              " * process.\n",
              " * @param {string} inputId Element ID of the input file picker element.\n",
              " * @param {string} outputId Element ID of the output display.\n",
              " * @return {!Iterable<!Object>} Iterable of next steps.\n",
              " */\n",
              "function* uploadFilesStep(inputId, outputId) {\n",
              "  const inputElement = document.getElementById(inputId);\n",
              "  inputElement.disabled = false;\n",
              "\n",
              "  const outputElement = document.getElementById(outputId);\n",
              "  outputElement.innerHTML = '';\n",
              "\n",
              "  const pickedPromise = new Promise((resolve) => {\n",
              "    inputElement.addEventListener('change', (e) => {\n",
              "      resolve(e.target.files);\n",
              "    });\n",
              "  });\n",
              "\n",
              "  const cancel = document.createElement('button');\n",
              "  inputElement.parentElement.appendChild(cancel);\n",
              "  cancel.textContent = 'Cancel upload';\n",
              "  const cancelPromise = new Promise((resolve) => {\n",
              "    cancel.onclick = () => {\n",
              "      resolve(null);\n",
              "    };\n",
              "  });\n",
              "\n",
              "  // Wait for the user to pick the files.\n",
              "  const files = yield {\n",
              "    promise: Promise.race([pickedPromise, cancelPromise]),\n",
              "    response: {\n",
              "      action: 'starting',\n",
              "    }\n",
              "  };\n",
              "\n",
              "  cancel.remove();\n",
              "\n",
              "  // Disable the input element since further picks are not allowed.\n",
              "  inputElement.disabled = true;\n",
              "\n",
              "  if (!files) {\n",
              "    return {\n",
              "      response: {\n",
              "        action: 'complete',\n",
              "      }\n",
              "    };\n",
              "  }\n",
              "\n",
              "  for (const file of files) {\n",
              "    const li = document.createElement('li');\n",
              "    li.append(span(file.name, {fontWeight: 'bold'}));\n",
              "    li.append(span(\n",
              "        `(${file.type || 'n/a'}) - ${file.size} bytes, ` +\n",
              "        `last modified: ${\n",
              "            file.lastModifiedDate ? file.lastModifiedDate.toLocaleDateString() :\n",
              "                                    'n/a'} - `));\n",
              "    const percent = span('0% done');\n",
              "    li.appendChild(percent);\n",
              "\n",
              "    outputElement.appendChild(li);\n",
              "\n",
              "    const fileDataPromise = new Promise((resolve) => {\n",
              "      const reader = new FileReader();\n",
              "      reader.onload = (e) => {\n",
              "        resolve(e.target.result);\n",
              "      };\n",
              "      reader.readAsArrayBuffer(file);\n",
              "    });\n",
              "    // Wait for the data to be ready.\n",
              "    let fileData = yield {\n",
              "      promise: fileDataPromise,\n",
              "      response: {\n",
              "        action: 'continue',\n",
              "      }\n",
              "    };\n",
              "\n",
              "    // Use a chunked sending to avoid message size limits. See b/62115660.\n",
              "    let position = 0;\n",
              "    do {\n",
              "      const length = Math.min(fileData.byteLength - position, MAX_PAYLOAD_SIZE);\n",
              "      const chunk = new Uint8Array(fileData, position, length);\n",
              "      position += length;\n",
              "\n",
              "      const base64 = btoa(String.fromCharCode.apply(null, chunk));\n",
              "      yield {\n",
              "        response: {\n",
              "          action: 'append',\n",
              "          file: file.name,\n",
              "          data: base64,\n",
              "        },\n",
              "      };\n",
              "\n",
              "      let percentDone = fileData.byteLength === 0 ?\n",
              "          100 :\n",
              "          Math.round((position / fileData.byteLength) * 100);\n",
              "      percent.textContent = `${percentDone}% done`;\n",
              "\n",
              "    } while (position < fileData.byteLength);\n",
              "  }\n",
              "\n",
              "  // All done.\n",
              "  yield {\n",
              "    response: {\n",
              "      action: 'complete',\n",
              "    }\n",
              "  };\n",
              "}\n",
              "\n",
              "scope.google = scope.google || {};\n",
              "scope.google.colab = scope.google.colab || {};\n",
              "scope.google.colab._files = {\n",
              "  _uploadFiles,\n",
              "  _uploadFilesContinue,\n",
              "};\n",
              "})(self);\n",
              "</script> "
            ]
          },
          "metadata": {}
        },
        {
          "output_type": "stream",
          "name": "stdout",
          "text": [
            "Saving kaggle.json to kaggle.json\n"
          ]
        },
        {
          "output_type": "execute_result",
          "data": {
            "text/plain": [
              "{'kaggle.json': b'{\"username\":\"cchakradhar\",\"key\":\"8d0f8292fffc941009a1e821cc65a300\"}'}"
            ]
          },
          "metadata": {},
          "execution_count": 1
        }
      ]
    },
    {
      "cell_type": "code",
      "source": [
        "!mkdir ~/.kaggle\n",
        "!cp kaggle.json ~/.kaggle/\n",
        "!chmod 600 ~/.kaggle/kaggle.json"
      ],
      "metadata": {
        "id": "DNAnaaedYzYc"
      },
      "execution_count": 2,
      "outputs": []
    },
    {
      "cell_type": "code",
      "execution_count": 10,
      "metadata": {
        "colab": {
          "base_uri": "https://localhost:8080/"
        },
        "id": "ybyVTSAPYVhR",
        "outputId": "108ca27f-7a34-4c72-dfd5-d56706e40f08"
      },
      "outputs": [
        {
          "output_type": "stream",
          "name": "stdout",
          "text": [
            "Mounted at /content/drive\n"
          ]
        }
      ],
      "source": [
        "from google.colab import drive\n",
        "drive.mount('/content/drive')"
      ]
    },
    {
      "cell_type": "code",
      "source": [
        "!kaggle competitions download -c dogs-vs-cats"
      ],
      "metadata": {
        "colab": {
          "base_uri": "https://localhost:8080/"
        },
        "id": "oOORvtmhYqMA",
        "outputId": "b8208e6e-f2b1-4cd2-ee36-772fff46e709"
      },
      "execution_count": 11,
      "outputs": [
        {
          "output_type": "stream",
          "name": "stdout",
          "text": [
            "Downloading dogs-vs-cats.zip to /content\n",
            " 99% 804M/812M [00:05<00:00, 201MB/s]\n",
            "100% 812M/812M [00:05<00:00, 156MB/s]\n"
          ]
        }
      ]
    },
    {
      "cell_type": "code",
      "source": [
        "!unzip -qq dogs-vs-cats.zip"
      ],
      "metadata": {
        "id": "BYd8dqqGYsyj"
      },
      "execution_count": 12,
      "outputs": []
    },
    {
      "cell_type": "code",
      "source": [
        "!unzip -qq train.zip"
      ],
      "metadata": {
        "id": "GAZO211GnkFa"
      },
      "execution_count": 13,
      "outputs": []
    },
    {
      "cell_type": "markdown",
      "source": [
        "1. Consider the Cats & Dogs example. Start initially with a training sample of 1000, a\n",
        "validation sample of 500, and a test sample of 500 (like in the text). Use any technique\n",
        "to reduce overfitting and improve performance in developing a network that you train\n",
        "from scratch. What performance did you achieve?"
      ],
      "metadata": {
        "id": "q_WH982Sn62S"
      }
    },
    {
      "cell_type": "markdown",
      "source": [
        "As per the approach we need to train a network from scratch, from the above data i have loaded the dataset and need to import the required modules like operating system interface, high level file operations, object oriented filesystem paths etc,. are essential for working with direcrories and some other filesysytems."
      ],
      "metadata": {
        "id": "1FACbY_WoGrY"
      }
    },
    {
      "cell_type": "code",
      "source": [
        "import os, shutil, pathlib\n",
        "\n",
        "old_dir = pathlib.Path(\"train\")\n",
        "new_dir = pathlib.Path(\"cats_vs_dogs_small\")\n",
        "\n",
        "def make_subset(subset_name, start_index, end_index):\n",
        "    for category in (\"cat\", \"dog\"):\n",
        "        dir = new_dir / subset_name / category\n",
        "        os.makedirs(dir)\n",
        "        fnames = [f\"{category}.{i}.jpg\" for i in range(start_index, end_index)]\n",
        "        for fname in fnames:\n",
        "            shutil.copyfile(src=old_dir/ fname,\n",
        "                            dst=dir / fname)\n",
        "\n",
        "make_subset(\"test\", start_index=0, end_index=500)\n",
        "make_subset(\"validation\", start_index=500, end_index=1000)\n",
        "make_subset(\"train\", start_index=1000, end_index=2000)"
      ],
      "metadata": {
        "id": "NKZuqJJFoBYG"
      },
      "execution_count": 14,
      "outputs": []
    },
    {
      "cell_type": "markdown",
      "source": [
        "**Building the model**\n",
        "\n",
        "Here the input for this network is 3-D tensor which is images that needs to reshaped. For that we need to use the general model structure for the convnet with alternated Conv2D(with 'relu' activation) and maxpooling2D stages more due to its bigger images."
      ],
      "metadata": {
        "id": "2Q_hYWE-q71J"
      }
    },
    {
      "cell_type": "markdown",
      "source": [
        "The following problem is a binary-classification either the output is determined as 'cat' or 'dog'. We need to end with dense layer and a 'sigmoid function'\n",
        "\n",
        "First, we need to rescaling layer that are changes from [0,255] to [0,1]"
      ],
      "metadata": {
        "id": "ynAkzHkNtgya"
      }
    },
    {
      "cell_type": "code",
      "source": [
        "from tensorflow import keras\n",
        "from tensorflow.keras import layers\n",
        "\n",
        "inputs = keras.Input(shape=(180, 180, 3))\n",
        "x = layers.Rescaling(1./255)(inputs)\n",
        "x = layers.Conv2D(filters=32, kernel_size=3, activation=\"relu\")(x)\n",
        "x = layers.MaxPooling2D(pool_size=2)(x)\n",
        "x = layers.Conv2D(filters=64, kernel_size=3, activation=\"relu\")(x)\n",
        "x = layers.MaxPooling2D(pool_size=2)(x)\n",
        "x = layers.Conv2D(filters=128, kernel_size=3, activation=\"relu\")(x)\n",
        "x = layers.MaxPooling2D(pool_size=2)(x)\n",
        "x = layers.Conv2D(filters=256, kernel_size=3, activation=\"relu\")(x)\n",
        "x = layers.MaxPooling2D(pool_size=2)(x)\n",
        "x = layers.Conv2D(filters=256, kernel_size=3, activation=\"relu\")(x)\n",
        "x = layers.Flatten()(x)\n",
        "outputs = layers.Dense(1, activation=\"sigmoid\")(x)\n",
        "model = keras.Model(inputs=inputs, outputs=outputs)\n"
      ],
      "metadata": {
        "id": "onksu_A2qT30"
      },
      "execution_count": 15,
      "outputs": []
    },
    {
      "cell_type": "markdown",
      "source": [
        "Here we can see the dimensions of the feature maps changes in between the layers."
      ],
      "metadata": {
        "id": "_Strt3BXvWqm"
      }
    },
    {
      "cell_type": "code",
      "source": [
        "model.summary()"
      ],
      "metadata": {
        "colab": {
          "base_uri": "https://localhost:8080/"
        },
        "id": "AoyIEZN0vQiR",
        "outputId": "6268350b-8cae-4075-c767-69f7e31da384"
      },
      "execution_count": 16,
      "outputs": [
        {
          "output_type": "stream",
          "name": "stdout",
          "text": [
            "Model: \"model\"\n",
            "_________________________________________________________________\n",
            " Layer (type)                Output Shape              Param #   \n",
            "=================================================================\n",
            " input_1 (InputLayer)        [(None, 180, 180, 3)]     0         \n",
            "                                                                 \n",
            " rescaling (Rescaling)       (None, 180, 180, 3)       0         \n",
            "                                                                 \n",
            " conv2d (Conv2D)             (None, 178, 178, 32)      896       \n",
            "                                                                 \n",
            " max_pooling2d (MaxPooling2  (None, 89, 89, 32)        0         \n",
            " D)                                                              \n",
            "                                                                 \n",
            " conv2d_1 (Conv2D)           (None, 87, 87, 64)        18496     \n",
            "                                                                 \n",
            " max_pooling2d_1 (MaxPoolin  (None, 43, 43, 64)        0         \n",
            " g2D)                                                            \n",
            "                                                                 \n",
            " conv2d_2 (Conv2D)           (None, 41, 41, 128)       73856     \n",
            "                                                                 \n",
            " max_pooling2d_2 (MaxPoolin  (None, 20, 20, 128)       0         \n",
            " g2D)                                                            \n",
            "                                                                 \n",
            " conv2d_3 (Conv2D)           (None, 18, 18, 256)       295168    \n",
            "                                                                 \n",
            " max_pooling2d_3 (MaxPoolin  (None, 9, 9, 256)         0         \n",
            " g2D)                                                            \n",
            "                                                                 \n",
            " conv2d_4 (Conv2D)           (None, 7, 7, 256)         590080    \n",
            "                                                                 \n",
            " flatten (Flatten)           (None, 12544)             0         \n",
            "                                                                 \n",
            " dense (Dense)               (None, 1)                 12545     \n",
            "                                                                 \n",
            "=================================================================\n",
            "Total params: 991041 (3.78 MB)\n",
            "Trainable params: 991041 (3.78 MB)\n",
            "Non-trainable params: 0 (0.00 Byte)\n",
            "_________________________________________________________________\n"
          ]
        }
      ]
    },
    {
      "cell_type": "markdown",
      "source": [
        "From the above we can see there are 991041 trainable params needs to optimize."
      ],
      "metadata": {
        "id": "vuxqzW4Cvspf"
      }
    },
    {
      "cell_type": "markdown",
      "source": [
        "**Configuring the model**\n",
        "\n",
        "for the compilation step we need to use the 'binary crossentropy' as loss because we ended the model with a sigmoid function."
      ],
      "metadata": {
        "id": "AtTUVMXKwEDs"
      }
    },
    {
      "cell_type": "code",
      "source": [
        "model.compile(optimizer = \"rmsprop\", loss = \"binary_crossentropy\", metrics = [\"accuracy\"])"
      ],
      "metadata": {
        "id": "i8hU_Hc5wAb7"
      },
      "execution_count": 17,
      "outputs": []
    },
    {
      "cell_type": "markdown",
      "source": [
        "Before we fed to the model we need to format the data into appropriate preprocess floating point tensors.\n",
        "need to decode the JPEG to RGB grid of pixels, then to floating point tensors, then resize them to shared size and packing them into batches(by using batches of 32 images)"
      ],
      "metadata": {
        "id": "WLkk7YXSxRUq"
      }
    },
    {
      "cell_type": "code",
      "source": [
        "#image_dataset_from_directory is to setup a data pipeline that can automatically turn images to preprocessed tensors.\n",
        "from tensorflow.keras.utils import image_dataset_from_directory\n",
        "\n",
        "#this below directory it will do the subdirectories of directory and assume each one contains images from one of our classes.\n",
        "#it will create and return tf.data.Dataset that inturns read, shuffle, and decode them.\n",
        "train_datset = image_dataset_from_directory(\n",
        "    new_dir / \"train\",\n",
        "    image_size=(180, 180),\n",
        "    batch_size=32)\n",
        "validation_datset = image_dataset_from_directory(\n",
        "    new_dir / \"validation\",\n",
        "    image_size=(180, 180),\n",
        "    batch_size=32)\n",
        "test_datset = image_dataset_from_directory(\n",
        "    new_dir / \"test\",\n",
        "    image_size=(180, 180),\n",
        "    batch_size=32)"
      ],
      "metadata": {
        "colab": {
          "base_uri": "https://localhost:8080/"
        },
        "id": "EriKbQepyDEj",
        "outputId": "bd9fff80-433a-4b1a-8feb-e81140e4d12d"
      },
      "execution_count": 18,
      "outputs": [
        {
          "output_type": "stream",
          "name": "stdout",
          "text": [
            "Found 2000 files belonging to 2 classes.\n",
            "Found 1000 files belonging to 2 classes.\n",
            "Found 1000 files belonging to 2 classes.\n"
          ]
        }
      ]
    },
    {
      "cell_type": "markdown",
      "source": [
        "**Displaying the Shapes and Labels of the Data and Dataset**"
      ],
      "metadata": {
        "id": "oXLBReF51lZ9"
      }
    },
    {
      "cell_type": "code",
      "source": [
        "for data_batch, labels_batch in train_datset:\n",
        "    print(\"data_batch_shape:\", data_batch.shape)\n",
        "    print(\"labels_batch_shape:\", labels_batch.shape)\n",
        "    break"
      ],
      "metadata": {
        "colab": {
          "base_uri": "https://localhost:8080/"
        },
        "id": "ZY0sp8xh2avs",
        "outputId": "d6efdf3b-d301-4ddd-8bd8-4c8bd8c39253"
      },
      "execution_count": 19,
      "outputs": [
        {
          "output_type": "stream",
          "name": "stdout",
          "text": [
            "data_batch_shape: (32, 180, 180, 3)\n",
            "labels_batch_shape: (32,)\n"
          ]
        }
      ]
    },
    {
      "cell_type": "markdown",
      "source": [
        "**Fitting the model using dataset**\n",
        "\n",
        "let's fit the model on our dataset, here the \"callbacks\" are used to save the model after each epoch(iteration)."
      ],
      "metadata": {
        "id": "2JKmCzzw4FEL"
      }
    },
    {
      "cell_type": "code",
      "source": [
        "callbacks = [\n",
        "    keras.callbacks.ModelCheckpoint(\n",
        "        filepath=\"conv_from_scratch1.keras\",\n",
        "#the below arguments tell the callback to only save a new file(replace) when val_loss metric is lower than any previous time during training\n",
        "        save_best_only=True,\n",
        "        monitor=\"val_loss\")\n",
        "]\n",
        "history = model.fit(\n",
        "    train_datset,\n",
        "    epochs=30,\n",
        "    validation_data=validation_datset,\n",
        "    callbacks=callbacks)"
      ],
      "metadata": {
        "colab": {
          "base_uri": "https://localhost:8080/"
        },
        "id": "QPpTwUFW4UPw",
        "outputId": "a208b475-f398-447d-a551-6606bfe4a4e6"
      },
      "execution_count": 20,
      "outputs": [
        {
          "output_type": "stream",
          "name": "stdout",
          "text": [
            "Epoch 1/30\n",
            "63/63 [==============================] - 13s 111ms/step - loss: 0.7007 - accuracy: 0.5100 - val_loss: 0.6919 - val_accuracy: 0.5960\n",
            "Epoch 2/30\n",
            "63/63 [==============================] - 4s 62ms/step - loss: 0.6929 - accuracy: 0.5550 - val_loss: 0.6831 - val_accuracy: 0.5540\n",
            "Epoch 3/30\n",
            "63/63 [==============================] - 6s 87ms/step - loss: 0.6907 - accuracy: 0.5615 - val_loss: 0.6569 - val_accuracy: 0.5870\n",
            "Epoch 4/30\n",
            "63/63 [==============================] - 4s 63ms/step - loss: 0.6485 - accuracy: 0.6140 - val_loss: 0.6318 - val_accuracy: 0.6300\n",
            "Epoch 5/30\n",
            "63/63 [==============================] - 4s 63ms/step - loss: 0.6275 - accuracy: 0.6545 - val_loss: 0.6481 - val_accuracy: 0.6340\n",
            "Epoch 6/30\n",
            "63/63 [==============================] - 7s 108ms/step - loss: 0.5867 - accuracy: 0.6955 - val_loss: 0.6187 - val_accuracy: 0.6760\n",
            "Epoch 7/30\n",
            "63/63 [==============================] - 4s 61ms/step - loss: 0.5743 - accuracy: 0.7085 - val_loss: 0.7038 - val_accuracy: 0.5830\n",
            "Epoch 8/30\n",
            "63/63 [==============================] - 4s 66ms/step - loss: 0.5451 - accuracy: 0.7150 - val_loss: 0.7177 - val_accuracy: 0.6550\n",
            "Epoch 9/30\n",
            "63/63 [==============================] - 7s 111ms/step - loss: 0.5084 - accuracy: 0.7515 - val_loss: 0.6033 - val_accuracy: 0.6980\n",
            "Epoch 10/30\n",
            "63/63 [==============================] - 4s 64ms/step - loss: 0.4856 - accuracy: 0.7740 - val_loss: 0.6015 - val_accuracy: 0.6990\n",
            "Epoch 11/30\n",
            "63/63 [==============================] - 4s 60ms/step - loss: 0.4358 - accuracy: 0.7970 - val_loss: 0.8034 - val_accuracy: 0.6610\n",
            "Epoch 12/30\n",
            "63/63 [==============================] - 6s 97ms/step - loss: 0.4095 - accuracy: 0.8210 - val_loss: 0.7692 - val_accuracy: 0.6520\n",
            "Epoch 13/30\n",
            "63/63 [==============================] - 4s 66ms/step - loss: 0.3421 - accuracy: 0.8450 - val_loss: 0.7738 - val_accuracy: 0.6870\n",
            "Epoch 14/30\n",
            "63/63 [==============================] - 4s 64ms/step - loss: 0.2878 - accuracy: 0.8795 - val_loss: 0.8519 - val_accuracy: 0.7080\n",
            "Epoch 15/30\n",
            "63/63 [==============================] - 8s 113ms/step - loss: 0.2260 - accuracy: 0.9185 - val_loss: 1.2527 - val_accuracy: 0.6510\n",
            "Epoch 16/30\n",
            "63/63 [==============================] - 4s 61ms/step - loss: 0.2003 - accuracy: 0.9235 - val_loss: 0.9426 - val_accuracy: 0.6950\n",
            "Epoch 17/30\n",
            "63/63 [==============================] - 4s 61ms/step - loss: 0.1593 - accuracy: 0.9335 - val_loss: 1.1110 - val_accuracy: 0.6960\n",
            "Epoch 18/30\n",
            "63/63 [==============================] - 7s 100ms/step - loss: 0.1111 - accuracy: 0.9600 - val_loss: 1.4230 - val_accuracy: 0.6960\n",
            "Epoch 19/30\n",
            "63/63 [==============================] - 5s 76ms/step - loss: 0.0982 - accuracy: 0.9625 - val_loss: 1.1943 - val_accuracy: 0.7070\n",
            "Epoch 20/30\n",
            "63/63 [==============================] - 5s 73ms/step - loss: 0.0603 - accuracy: 0.9785 - val_loss: 2.0369 - val_accuracy: 0.6800\n",
            "Epoch 21/30\n",
            "63/63 [==============================] - 7s 97ms/step - loss: 0.0785 - accuracy: 0.9730 - val_loss: 1.3553 - val_accuracy: 0.7340\n",
            "Epoch 22/30\n",
            "63/63 [==============================] - 4s 59ms/step - loss: 0.0603 - accuracy: 0.9785 - val_loss: 1.5465 - val_accuracy: 0.7290\n",
            "Epoch 23/30\n",
            "63/63 [==============================] - 4s 58ms/step - loss: 0.0802 - accuracy: 0.9805 - val_loss: 1.5616 - val_accuracy: 0.7050\n",
            "Epoch 24/30\n",
            "63/63 [==============================] - 7s 102ms/step - loss: 0.0459 - accuracy: 0.9850 - val_loss: 1.6101 - val_accuracy: 0.7480\n",
            "Epoch 25/30\n",
            "63/63 [==============================] - 5s 73ms/step - loss: 0.0551 - accuracy: 0.9835 - val_loss: 1.7885 - val_accuracy: 0.7330\n",
            "Epoch 26/30\n",
            "63/63 [==============================] - 4s 60ms/step - loss: 0.0406 - accuracy: 0.9865 - val_loss: 1.7839 - val_accuracy: 0.7340\n",
            "Epoch 27/30\n",
            "63/63 [==============================] - 5s 83ms/step - loss: 0.0297 - accuracy: 0.9900 - val_loss: 2.1577 - val_accuracy: 0.6710\n",
            "Epoch 28/30\n",
            "63/63 [==============================] - 4s 63ms/step - loss: 0.0407 - accuracy: 0.9840 - val_loss: 2.1985 - val_accuracy: 0.7210\n",
            "Epoch 29/30\n",
            "63/63 [==============================] - 4s 62ms/step - loss: 0.0541 - accuracy: 0.9815 - val_loss: 2.1621 - val_accuracy: 0.7380\n",
            "Epoch 30/30\n",
            "63/63 [==============================] - 7s 102ms/step - loss: 0.0344 - accuracy: 0.9865 - val_loss: 2.4745 - val_accuracy: 0.7240\n"
          ]
        }
      ]
    },
    {
      "cell_type": "markdown",
      "source": [
        "**Displaying curves of loss and accuracy during training**\n",
        "\n",
        "let's plot the loss and accuracy of the model within the training and validation data during training."
      ],
      "metadata": {
        "id": "DbBwzqFD50pD"
      }
    },
    {
      "cell_type": "code",
      "source": [
        "import matplotlib.pyplot as plt\n",
        "accuracy = history.history[\"accuracy\"]\n",
        "val_accuracy = history.history[\"val_accuracy\"]\n",
        "loss = history.history[\"loss\"]\n",
        "val_loss = history.history[\"val_loss\"]\n",
        "epochs = range(1, len(accuracy) + 1)\n",
        "plt.plot(epochs, accuracy, \"bo\", label=\"Training accuracy\")\n",
        "plt.plot(epochs, val_accuracy, \"b\", label=\"Validation accuracy\")\n",
        "plt.title(\"Before AugmentationTraining and validation accuracy\")\n",
        "plt.legend()\n",
        "plt.figure()\n",
        "plt.plot(epochs, loss, \"bo\", label=\"Training loss\")\n",
        "plt.plot(epochs, val_loss, \"b\", label=\"Validation loss\")\n",
        "plt.title(\"Before Augmentation Training and validation loss\")\n",
        "plt.legend()\n",
        "plt.show()"
      ],
      "metadata": {
        "colab": {
          "base_uri": "https://localhost:8080/",
          "height": 887
        },
        "id": "-K_6uSKp5REj",
        "outputId": "9ed3ca38-ad06-4bc2-e74e-41bd6c5dbace"
      },
      "execution_count": 21,
      "outputs": [
        {
          "output_type": "display_data",
          "data": {
            "text/plain": [
              "<Figure size 640x480 with 1 Axes>"
            ],
            "image/png": "[encoded data removed]"
          },
          "metadata": {}
        },
        {
          "output_type": "display_data",
          "data": {
            "text/plain": [
              "<Figure size 640x480 with 1 Axes>"
            ],
            "image/png": "[encoded data removed]"
          },
          "metadata": {}
        }
      ]
    },
    {
      "cell_type": "markdown",
      "source": [
        "from the above plots are the characteristics of overfitting, the training accuracy increases linearly overtime and nearly reaches 100% whereas validation accuracy is at only 73-75%.\n",
        "And the validation loss is stalls upto 10 epochs after it steadily increases where as training loss keeps decreasing linearly as training proceeds."
      ],
      "metadata": {
        "id": "-mATwkqm7ys5"
      }
    },
    {
      "cell_type": "markdown",
      "source": [
        "**Evaluating the model on test set**\n",
        "\n",
        "Let's check test accuracy"
      ],
      "metadata": {
        "id": "gZ1a5c6y8swR"
      }
    },
    {
      "cell_type": "code",
      "source": [
        "test_model1 = keras.models.load_model(\"conv_from_scratch1.keras\")\n",
        "test_loss, test_acc = test_model1.evaluate(test_datset)\n",
        "print(f\"Test accuracy: {test_acc:.3f}\")"
      ],
      "metadata": {
        "colab": {
          "base_uri": "https://localhost:8080/"
        },
        "id": "1ameFdcp9BtL",
        "outputId": "103ced38-798c-418f-b18e-2b001f398109"
      },
      "execution_count": 22,
      "outputs": [
        {
          "output_type": "stream",
          "name": "stdout",
          "text": [
            "32/32 [==============================] - 2s 50ms/step - loss: 0.5577 - accuracy: 0.7190\n",
            "Test accuracy: 0.719\n"
          ]
        }
      ]
    },
    {
      "cell_type": "markdown",
      "source": [
        "we got a test accuracy of 70% because of less training data that leads to overfitting etc,. so that we need to work with specific one to computer vision when processing images with Deep learning models called Data Augmentation"
      ],
      "metadata": {
        "id": "8H8v8gb29QBm"
      }
    },
    {
      "cell_type": "markdown",
      "source": [
        "**Data Augmentation**\n",
        "\n",
        "Defining a data augmentation stage to add an image model"
      ],
      "metadata": {
        "id": "U-MO7QfC95ev"
      }
    },
    {
      "cell_type": "code",
      "source": [
        "#we are doing random flip, random rotation, random zoom\n",
        "data_augmentation = keras.Sequential(\n",
        "    [\n",
        "        layers.RandomFlip(\"horizontal\"),\n",
        "        layers.RandomRotation(0.1),\n",
        "        layers.RandomZoom(0.2),\n",
        "    ]\n",
        ")"
      ],
      "metadata": {
        "id": "rlGExoOn-TcN"
      },
      "execution_count": 23,
      "outputs": []
    },
    {
      "cell_type": "markdown",
      "source": [
        "**Displaying randomly Augmented training images**\n",
        "\n",
        "It's just like dropout where it overcome overfitting they're inactive during inference, it will behave as same model like when we not include data augmentation and dropout."
      ],
      "metadata": {
        "id": "CKZylrJE-7Zi"
      }
    },
    {
      "cell_type": "markdown",
      "source": [
        "**Defining a convnet that includes image augmentation and dropout**"
      ],
      "metadata": {
        "id": "fEsYf-rt_-KN"
      }
    },
    {
      "cell_type": "code",
      "source": [
        "inputs = keras.Input(shape=(180, 180, 3))\n",
        "x = data_augmentation(inputs)\n",
        "x = layers.Rescaling(1./255)(x)\n",
        "x = layers.Conv2D(filters=32, kernel_size=3, activation=\"relu\")(x)\n",
        "x = layers.MaxPooling2D(pool_size=2)(x)\n",
        "x = layers.Conv2D(filters=64, kernel_size=3, activation=\"relu\")(x)\n",
        "x = layers.MaxPooling2D(pool_size=2)(x)\n",
        "x = layers.Conv2D(filters=128, kernel_size=3, activation=\"relu\")(x)\n",
        "x = layers.MaxPooling2D(pool_size=2)(x)\n",
        "x = layers.Conv2D(filters=256, kernel_size=3, activation=\"relu\")(x)\n",
        "x = layers.MaxPooling2D(pool_size=2)(x)\n",
        "x = layers.Conv2D(filters=256, kernel_size=3, activation=\"relu\")(x)\n",
        "x = layers.Flatten()(x)\n",
        "outputs = layers.Dense(1, activation=\"sigmoid\")(x)\n",
        "model = keras.Model(inputs=inputs, outputs=outputs)\n",
        "\n",
        "model.compile(loss=\"binary_crossentropy\",\n",
        "              optimizer=\"rmsprop\",\n",
        "              metrics=[\"accuracy\"])"
      ],
      "metadata": {
        "id": "Ygb0mKBJANK0"
      },
      "execution_count": 24,
      "outputs": []
    },
    {
      "cell_type": "markdown",
      "source": [
        "**Training the regularized convnet**\n",
        "\n",
        "we train the model using data augmentation and dropout to overcome overfitting we will train as many number of times----100"
      ],
      "metadata": {
        "id": "lkAhaBKnARIy"
      }
    },
    {
      "cell_type": "code",
      "source": [
        "callbacks = [\n",
        "    keras.callbacks.ModelCheckpoint(\n",
        "        filepath=\"conv_from_scratch_with_augmentation.keras\",\n",
        "        save_best_only=True,\n",
        "        monitor=\"val_loss\")\n",
        "]\n",
        "history = model.fit(\n",
        "    train_datset,\n",
        "    epochs=30,\n",
        "    validation_data=validation_datset,\n",
        "     callbacks=callbacks)"
      ],
      "metadata": {
        "colab": {
          "base_uri": "https://localhost:8080/"
        },
        "id": "pasz4fh4A7tq",
        "outputId": "7a487665-15bb-4f68-b545-efc40f323294"
      },
      "execution_count": 25,
      "outputs": [
        {
          "output_type": "stream",
          "name": "stdout",
          "text": [
            "Epoch 1/30\n",
            "63/63 [==============================] - 13s 85ms/step - loss: 0.7465 - accuracy: 0.5225 - val_loss: 0.6927 - val_accuracy: 0.5230\n",
            "Epoch 2/30\n",
            "63/63 [==============================] - 4s 60ms/step - loss: 0.6969 - accuracy: 0.5210 - val_loss: 0.6889 - val_accuracy: 0.5170\n",
            "Epoch 3/30\n",
            "63/63 [==============================] - 5s 83ms/step - loss: 0.6950 - accuracy: 0.5135 - val_loss: 0.6914 - val_accuracy: 0.5030\n",
            "Epoch 4/30\n",
            "63/63 [==============================] - 7s 96ms/step - loss: 0.6921 - accuracy: 0.5345 - val_loss: 0.6853 - val_accuracy: 0.5180\n",
            "Epoch 5/30\n",
            "63/63 [==============================] - 4s 60ms/step - loss: 0.6733 - accuracy: 0.5900 - val_loss: 0.6907 - val_accuracy: 0.5120\n",
            "Epoch 6/30\n",
            "63/63 [==============================] - 4s 60ms/step - loss: 0.6484 - accuracy: 0.6205 - val_loss: 0.6442 - val_accuracy: 0.6300\n",
            "Epoch 7/30\n",
            "63/63 [==============================] - 7s 101ms/step - loss: 0.6457 - accuracy: 0.6280 - val_loss: 0.6249 - val_accuracy: 0.6490\n",
            "Epoch 8/30\n",
            "63/63 [==============================] - 4s 59ms/step - loss: 0.6265 - accuracy: 0.6565 - val_loss: 0.6552 - val_accuracy: 0.6270\n",
            "Epoch 9/30\n",
            "63/63 [==============================] - 4s 64ms/step - loss: 0.6081 - accuracy: 0.6730 - val_loss: 0.6114 - val_accuracy: 0.6330\n",
            "Epoch 10/30\n",
            "63/63 [==============================] - 7s 109ms/step - loss: 0.6014 - accuracy: 0.6740 - val_loss: 0.6307 - val_accuracy: 0.6560\n",
            "Epoch 11/30\n",
            "63/63 [==============================] - 4s 60ms/step - loss: 0.5831 - accuracy: 0.7000 - val_loss: 0.6367 - val_accuracy: 0.6650\n",
            "Epoch 12/30\n",
            "63/63 [==============================] - 4s 60ms/step - loss: 0.5797 - accuracy: 0.6975 - val_loss: 0.5946 - val_accuracy: 0.6800\n",
            "Epoch 13/30\n",
            "63/63 [==============================] - 6s 96ms/step - loss: 0.5661 - accuracy: 0.7050 - val_loss: 0.5980 - val_accuracy: 0.6880\n",
            "Epoch 14/30\n",
            "63/63 [==============================] - 4s 60ms/step - loss: 0.5419 - accuracy: 0.7290 - val_loss: 0.6000 - val_accuracy: 0.6930\n",
            "Epoch 15/30\n",
            "63/63 [==============================] - 4s 60ms/step - loss: 0.5279 - accuracy: 0.7320 - val_loss: 0.5265 - val_accuracy: 0.7420\n",
            "Epoch 16/30\n",
            "63/63 [==============================] - 7s 108ms/step - loss: 0.5285 - accuracy: 0.7350 - val_loss: 0.5666 - val_accuracy: 0.7160\n",
            "Epoch 17/30\n",
            "63/63 [==============================] - 5s 65ms/step - loss: 0.5134 - accuracy: 0.7500 - val_loss: 0.5522 - val_accuracy: 0.7400\n",
            "Epoch 18/30\n",
            "63/63 [==============================] - 4s 67ms/step - loss: 0.5053 - accuracy: 0.7655 - val_loss: 0.6295 - val_accuracy: 0.6970\n",
            "Epoch 19/30\n",
            "63/63 [==============================] - 6s 87ms/step - loss: 0.4896 - accuracy: 0.7675 - val_loss: 0.5318 - val_accuracy: 0.7470\n",
            "Epoch 20/30\n",
            "63/63 [==============================] - 6s 87ms/step - loss: 0.4835 - accuracy: 0.7710 - val_loss: 0.5298 - val_accuracy: 0.7600\n",
            "Epoch 21/30\n",
            "63/63 [==============================] - 4s 60ms/step - loss: 0.4719 - accuracy: 0.7800 - val_loss: 0.6331 - val_accuracy: 0.7060\n",
            "Epoch 22/30\n",
            "63/63 [==============================] - 4s 60ms/step - loss: 0.4657 - accuracy: 0.7830 - val_loss: 0.5252 - val_accuracy: 0.7540\n",
            "Epoch 23/30\n",
            "63/63 [==============================] - 6s 91ms/step - loss: 0.4631 - accuracy: 0.7850 - val_loss: 0.4981 - val_accuracy: 0.7710\n",
            "Epoch 24/30\n",
            "63/63 [==============================] - 4s 66ms/step - loss: 0.4438 - accuracy: 0.7910 - val_loss: 0.4863 - val_accuracy: 0.7800\n",
            "Epoch 25/30\n",
            "63/63 [==============================] - 5s 74ms/step - loss: 0.4397 - accuracy: 0.7935 - val_loss: 0.5952 - val_accuracy: 0.7110\n",
            "Epoch 26/30\n",
            "63/63 [==============================] - 7s 109ms/step - loss: 0.4215 - accuracy: 0.8160 - val_loss: 0.5430 - val_accuracy: 0.7550\n",
            "Epoch 27/30\n",
            "63/63 [==============================] - 4s 65ms/step - loss: 0.4340 - accuracy: 0.8010 - val_loss: 0.5028 - val_accuracy: 0.7480\n",
            "Epoch 28/30\n",
            "63/63 [==============================] - 6s 94ms/step - loss: 0.4226 - accuracy: 0.8045 - val_loss: 0.4594 - val_accuracy: 0.7880\n",
            "Epoch 29/30\n",
            "63/63 [==============================] - 4s 62ms/step - loss: 0.4021 - accuracy: 0.8195 - val_loss: 0.4743 - val_accuracy: 0.7990\n",
            "Epoch 30/30\n",
            "63/63 [==============================] - 4s 64ms/step - loss: 0.3908 - accuracy: 0.8240 - val_loss: 0.4454 - val_accuracy: 0.8040\n"
          ]
        }
      ]
    },
    {
      "cell_type": "markdown",
      "source": [
        "Now let's see again the curves for loss and accuracy during training"
      ],
      "metadata": {
        "id": "2NkSAfFmBlei"
      }
    },
    {
      "cell_type": "code",
      "source": [
        "import matplotlib.pyplot as plt\n",
        "accuracy = history.history[\"accuracy\"]\n",
        "val_accuracy = history.history[\"val_accuracy\"]\n",
        "loss = history.history[\"loss\"]\n",
        "val_loss = history.history[\"val_loss\"]\n",
        "epochs = range(1, len(accuracy) + 1)\n",
        "plt.plot(epochs, accuracy, \"bo\", label=\"Training accuracy\")\n",
        "plt.plot(epochs, val_accuracy, \"b\", label=\"Validation accuracy\")\n",
        "plt.title(\"After Augmentation Training and validation accuracy\")\n",
        "plt.legend()\n",
        "plt.figure()\n",
        "plt.plot(epochs, loss, \"bo\", label=\"Training loss\")\n",
        "plt.plot(epochs, val_loss, \"b\", label=\"Validation loss\")\n",
        "plt.title(\"After Augmentation Training and validation loss\")\n",
        "plt.legend()\n",
        "plt.show()"
      ],
      "metadata": {
        "colab": {
          "base_uri": "https://localhost:8080/",
          "height": 887
        },
        "id": "JL4n0IE9BzXO",
        "outputId": "ff5d113a-5e63-4b6f-ac86-dfec22dd373c"
      },
      "execution_count": 26,
      "outputs": [
        {
          "output_type": "display_data",
          "data": {
            "text/plain": [
              "<Figure size 640x480 with 1 Axes>"
            ],
            "image/png": "[encoded data removed]"
          },
          "metadata": {}
        },
        {
          "output_type": "display_data",
          "data": {
            "text/plain": [
              "<Figure size 640x480 with 1 Axes>"
            ],
            "image/png": "[encoded data removed]"
          },
          "metadata": {}
        }
      ]
    },
    {
      "cell_type": "markdown",
      "source": [
        "**Re-evaluating the model on the test dataset**"
      ],
      "metadata": {
        "id": "iL2nuz96CG4v"
      }
    },
    {
      "cell_type": "code",
      "source": [
        "test_model2 = keras.models.load_model(\n",
        "    \"conv_from_scratch_with_augmentation.keras\")\n",
        "test_loss, test_acc = test_model2.evaluate(test_datset)\n",
        "print(f\"Test accuracy: {test_acc:.3f}\")"
      ],
      "metadata": {
        "colab": {
          "base_uri": "https://localhost:8080/"
        },
        "id": "97nZGgm8CF3b",
        "outputId": "4d148721-b955-4554-f47e-0b4c453c2bce"
      },
      "execution_count": 27,
      "outputs": [
        {
          "output_type": "stream",
          "name": "stdout",
          "text": [
            "32/32 [==============================] - 1s 31ms/step - loss: 0.4280 - accuracy: 0.8130\n",
            "Test accuracy: 0.813\n"
          ]
        }
      ]
    },
    {
      "cell_type": "code",
      "source": [
        "inputs = keras.Input(shape=(180, 180, 3))\n",
        "x = layers.Rescaling(1./255)(inputs)\n",
        "x = layers.Conv2D(filters=32, kernel_size=3, activation=\"relu\")(x)\n",
        "x = layers.MaxPooling2D(pool_size=2)(x)\n",
        "x = layers.Conv2D(filters=64, kernel_size=3, activation=\"relu\")(x)\n",
        "x = layers.MaxPooling2D(pool_size=2)(x)\n",
        "x = layers.Conv2D(filters=128, kernel_size=3, activation=\"relu\")(x)\n",
        "x = layers.MaxPooling2D(pool_size=2)(x)\n",
        "x = layers.Conv2D(filters=256, kernel_size=3, activation=\"relu\")(x)\n",
        "x = layers.MaxPooling2D(pool_size=2)(x)\n",
        "x = layers.Conv2D(filters=256, kernel_size=3, activation=\"relu\")(x)\n",
        "x = layers.Flatten()(x)\n",
        "x = layers.Dropout(0.5)(x)\n",
        "outputs = layers.Dense(1, activation=\"sigmoid\")(x)\n",
        "model = keras.Model(inputs=inputs, outputs=outputs)\n",
        "\n",
        "model.compile(loss=\"binary_crossentropy\",\n",
        "              optimizer=\"rmsprop\",\n",
        "              metrics=[\"accuracy\"])"
      ],
      "metadata": {
        "id": "wwijTwmOsuey"
      },
      "execution_count": 28,
      "outputs": []
    },
    {
      "cell_type": "markdown",
      "source": [
        "Training the regularized convnet"
      ],
      "metadata": {
        "id": "tH_GS572s1w_"
      }
    },
    {
      "cell_type": "code",
      "source": [
        "callbacks = [\n",
        "    keras.callbacks.ModelCheckpoint(\n",
        "        filepath=\"conv_from_scratch_with_dropout.keras\",\n",
        "        save_best_only=True,\n",
        "        monitor=\"val_loss\")\n",
        "]\n",
        "history = model.fit(\n",
        "    train_datset,\n",
        "    epochs=30,\n",
        "    validation_data=validation_datset,\n",
        "    callbacks=callbacks)"
      ],
      "metadata": {
        "colab": {
          "base_uri": "https://localhost:8080/"
        },
        "id": "J46cZQoesuSO",
        "outputId": "70d5fe11-995a-45be-81a5-d0d28b2f611b"
      },
      "execution_count": 29,
      "outputs": [
        {
          "output_type": "stream",
          "name": "stdout",
          "text": [
            "Epoch 1/30\n",
            "63/63 [==============================] - 10s 88ms/step - loss: 0.6965 - accuracy: 0.5225 - val_loss: 0.6893 - val_accuracy: 0.5370\n",
            "Epoch 2/30\n",
            "63/63 [==============================] - 4s 59ms/step - loss: 0.6917 - accuracy: 0.5585 - val_loss: 0.6930 - val_accuracy: 0.5330\n",
            "Epoch 3/30\n",
            "63/63 [==============================] - 4s 58ms/step - loss: 0.6700 - accuracy: 0.6075 - val_loss: 0.6606 - val_accuracy: 0.5880\n",
            "Epoch 4/30\n",
            "63/63 [==============================] - 6s 99ms/step - loss: 0.6568 - accuracy: 0.6075 - val_loss: 0.6331 - val_accuracy: 0.6460\n",
            "Epoch 5/30\n",
            "63/63 [==============================] - 5s 73ms/step - loss: 0.6049 - accuracy: 0.6625 - val_loss: 0.8061 - val_accuracy: 0.6000\n",
            "Epoch 6/30\n",
            "63/63 [==============================] - 4s 58ms/step - loss: 0.5877 - accuracy: 0.6940 - val_loss: 0.5810 - val_accuracy: 0.6890\n",
            "Epoch 7/30\n",
            "63/63 [==============================] - 5s 82ms/step - loss: 0.5686 - accuracy: 0.7020 - val_loss: 0.6076 - val_accuracy: 0.6770\n",
            "Epoch 8/30\n",
            "63/63 [==============================] - 4s 56ms/step - loss: 0.5390 - accuracy: 0.7335 - val_loss: 0.6135 - val_accuracy: 0.6910\n",
            "Epoch 9/30\n",
            "63/63 [==============================] - 4s 61ms/step - loss: 0.5123 - accuracy: 0.7600 - val_loss: 0.5449 - val_accuracy: 0.7340\n",
            "Epoch 10/30\n",
            "63/63 [==============================] - 7s 105ms/step - loss: 0.4633 - accuracy: 0.7865 - val_loss: 0.7674 - val_accuracy: 0.6850\n",
            "Epoch 11/30\n",
            "63/63 [==============================] - 5s 69ms/step - loss: 0.4518 - accuracy: 0.8000 - val_loss: 0.5611 - val_accuracy: 0.7380\n",
            "Epoch 12/30\n",
            "63/63 [==============================] - 4s 59ms/step - loss: 0.3944 - accuracy: 0.8270 - val_loss: 0.6863 - val_accuracy: 0.7310\n",
            "Epoch 13/30\n",
            "63/63 [==============================] - 5s 82ms/step - loss: 0.3780 - accuracy: 0.8330 - val_loss: 0.6635 - val_accuracy: 0.7040\n",
            "Epoch 14/30\n",
            "63/63 [==============================] - 4s 57ms/step - loss: 0.3182 - accuracy: 0.8585 - val_loss: 0.5881 - val_accuracy: 0.7530\n",
            "Epoch 15/30\n",
            "63/63 [==============================] - 4s 59ms/step - loss: 0.2725 - accuracy: 0.8815 - val_loss: 0.7313 - val_accuracy: 0.7370\n",
            "Epoch 16/30\n",
            "63/63 [==============================] - 6s 96ms/step - loss: 0.2408 - accuracy: 0.9030 - val_loss: 0.6847 - val_accuracy: 0.7590\n",
            "Epoch 17/30\n",
            "63/63 [==============================] - 4s 64ms/step - loss: 0.2078 - accuracy: 0.9105 - val_loss: 0.7902 - val_accuracy: 0.7590\n",
            "Epoch 18/30\n",
            "63/63 [==============================] - 4s 58ms/step - loss: 0.1711 - accuracy: 0.9345 - val_loss: 0.8610 - val_accuracy: 0.7490\n",
            "Epoch 19/30\n",
            "63/63 [==============================] - 6s 97ms/step - loss: 0.1548 - accuracy: 0.9410 - val_loss: 0.8095 - val_accuracy: 0.7680\n",
            "Epoch 20/30\n",
            "63/63 [==============================] - 4s 59ms/step - loss: 0.1270 - accuracy: 0.9505 - val_loss: 0.9124 - val_accuracy: 0.7380\n",
            "Epoch 21/30\n",
            "63/63 [==============================] - 4s 62ms/step - loss: 0.1200 - accuracy: 0.9585 - val_loss: 0.8908 - val_accuracy: 0.7710\n",
            "Epoch 22/30\n",
            "63/63 [==============================] - 7s 100ms/step - loss: 0.0973 - accuracy: 0.9700 - val_loss: 1.1998 - val_accuracy: 0.7380\n",
            "Epoch 23/30\n",
            "63/63 [==============================] - 4s 57ms/step - loss: 0.0897 - accuracy: 0.9670 - val_loss: 0.9446 - val_accuracy: 0.7610\n",
            "Epoch 24/30\n",
            "63/63 [==============================] - 4s 58ms/step - loss: 0.0636 - accuracy: 0.9790 - val_loss: 1.4739 - val_accuracy: 0.7480\n",
            "Epoch 25/30\n",
            "63/63 [==============================] - 7s 110ms/step - loss: 0.0838 - accuracy: 0.9685 - val_loss: 1.2676 - val_accuracy: 0.7570\n",
            "Epoch 26/30\n",
            "63/63 [==============================] - 4s 57ms/step - loss: 0.0785 - accuracy: 0.9735 - val_loss: 0.9805 - val_accuracy: 0.7740\n",
            "Epoch 27/30\n",
            "63/63 [==============================] - 4s 58ms/step - loss: 0.0587 - accuracy: 0.9785 - val_loss: 1.4318 - val_accuracy: 0.7170\n",
            "Epoch 28/30\n",
            "63/63 [==============================] - 6s 99ms/step - loss: 0.0644 - accuracy: 0.9770 - val_loss: 1.1747 - val_accuracy: 0.7760\n",
            "Epoch 29/30\n",
            "63/63 [==============================] - 4s 57ms/step - loss: 0.0618 - accuracy: 0.9755 - val_loss: 1.1728 - val_accuracy: 0.7590\n",
            "Epoch 30/30\n",
            "63/63 [==============================] - 4s 57ms/step - loss: 0.0595 - accuracy: 0.9805 - val_loss: 1.4194 - val_accuracy: 0.7380\n"
          ]
        }
      ]
    },
    {
      "cell_type": "code",
      "source": [
        "test_model2 = keras.models.load_model(\n",
        "    \"conv_from_scratch_with_dropout.keras\")\n",
        "test_loss, test_acc = test_model2.evaluate(test_datset)\n",
        "print(f\"Test accuracy: {test_acc:.3f}\")"
      ],
      "metadata": {
        "colab": {
          "base_uri": "https://localhost:8080/"
        },
        "id": "fvTZoxxisuE9",
        "outputId": "6c34563c-a418-41f1-9f87-c10ce3b1476d"
      },
      "execution_count": 30,
      "outputs": [
        {
          "output_type": "stream",
          "name": "stdout",
          "text": [
            "32/32 [==============================] - 1s 30ms/step - loss: 0.5321 - accuracy: 0.7450\n",
            "Test accuracy: 0.745\n"
          ]
        }
      ]
    },
    {
      "cell_type": "markdown",
      "source": [
        "Using Image Augmentation and Dropout method"
      ],
      "metadata": {
        "id": "okNUS9metPIE"
      }
    },
    {
      "cell_type": "code",
      "source": [
        "data_augmentation = keras.Sequential(\n",
        "    [\n",
        "        layers.RandomFlip(\"horizontal\"),\n",
        "        layers.RandomRotation(0.1),\n",
        "        layers.RandomZoom(0.2),\n",
        "    ]\n",
        ")"
      ],
      "metadata": {
        "id": "nAM4o3_yst6D"
      },
      "execution_count": 31,
      "outputs": []
    },
    {
      "cell_type": "markdown",
      "source": [
        "Here a new convnet that includes both image augmentation and dropout"
      ],
      "metadata": {
        "id": "ePvEXufitPzo"
      }
    },
    {
      "cell_type": "code",
      "source": [
        "inputs = keras.Input(shape=(180, 180, 3))\n",
        "x = data_augmentation(inputs)\n",
        "x = layers.Rescaling(1./255)(x)\n",
        "x = layers.Conv2D(filters=32, kernel_size=3, activation=\"relu\")(x)\n",
        "x = layers.MaxPooling2D(pool_size=2)(x)\n",
        "x = layers.Conv2D(filters=64, kernel_size=3, activation=\"relu\")(x)\n",
        "x = layers.MaxPooling2D(pool_size=2)(x)\n",
        "x = layers.Conv2D(filters=128, kernel_size=3, activation=\"relu\")(x)\n",
        "x = layers.MaxPooling2D(pool_size=2)(x)\n",
        "x = layers.Conv2D(filters=256, kernel_size=3, activation=\"relu\")(x)\n",
        "x = layers.MaxPooling2D(pool_size=2)(x)\n",
        "x = layers.Conv2D(filters=256, kernel_size=3, activation=\"relu\")(x)\n",
        "x = layers.Flatten()(x)\n",
        "x = layers.Dropout(0.5)(x)\n",
        "outputs = layers.Dense(1, activation=\"sigmoid\")(x)\n",
        "model = keras.Model(inputs=inputs, outputs=outputs)\n",
        "\n",
        "model.compile(loss=\"binary_crossentropy\",\n",
        "              optimizer=\"rmsprop\",\n",
        "              metrics=[\"accuracy\"])"
      ],
      "metadata": {
        "id": "J0loyHMQspek"
      },
      "execution_count": 32,
      "outputs": []
    },
    {
      "cell_type": "markdown",
      "source": [
        "Training the regularized convnet"
      ],
      "metadata": {
        "id": "pKYazh6QtUNM"
      }
    },
    {
      "cell_type": "code",
      "source": [
        "callbacks = [\n",
        "    keras.callbacks.ModelCheckpoint(\n",
        "        filepath=\"conv_from_scratch_with_augmentation_dropout.keras\",\n",
        "        save_best_only=True,\n",
        "        monitor=\"val_loss\")\n",
        "]\n",
        "history = model.fit(\n",
        "    train_datset,\n",
        "    epochs=30,\n",
        "    validation_data=validation_datset,\n",
        "    callbacks=callbacks)"
      ],
      "metadata": {
        "colab": {
          "base_uri": "https://localhost:8080/"
        },
        "id": "KULhbMXTspN3",
        "outputId": "cb309348-b229-417b-e835-8529f8e7e7fc"
      },
      "execution_count": 33,
      "outputs": [
        {
          "output_type": "stream",
          "name": "stdout",
          "text": [
            "Epoch 1/30\n",
            "63/63 [==============================] - 11s 96ms/step - loss: 0.6970 - accuracy: 0.4915 - val_loss: 0.6941 - val_accuracy: 0.5000\n",
            "Epoch 2/30\n",
            "63/63 [==============================] - 4s 58ms/step - loss: 0.6938 - accuracy: 0.5020 - val_loss: 0.6927 - val_accuracy: 0.5000\n",
            "Epoch 3/30\n",
            "63/63 [==============================] - 4s 60ms/step - loss: 0.6902 - accuracy: 0.5435 - val_loss: 0.6759 - val_accuracy: 0.5900\n",
            "Epoch 4/30\n",
            "63/63 [==============================] - 7s 109ms/step - loss: 0.6788 - accuracy: 0.5700 - val_loss: 0.6722 - val_accuracy: 0.5760\n",
            "Epoch 5/30\n",
            "63/63 [==============================] - 4s 59ms/step - loss: 0.6681 - accuracy: 0.6055 - val_loss: 0.6649 - val_accuracy: 0.5940\n",
            "Epoch 6/30\n",
            "63/63 [==============================] - 6s 85ms/step - loss: 0.6464 - accuracy: 0.6180 - val_loss: 0.6449 - val_accuracy: 0.6230\n",
            "Epoch 7/30\n",
            "63/63 [==============================] - 6s 90ms/step - loss: 0.6259 - accuracy: 0.6400 - val_loss: 0.6377 - val_accuracy: 0.6530\n",
            "Epoch 8/30\n",
            "63/63 [==============================] - 4s 59ms/step - loss: 0.6284 - accuracy: 0.6480 - val_loss: 0.6035 - val_accuracy: 0.6820\n",
            "Epoch 9/30\n",
            "63/63 [==============================] - 7s 103ms/step - loss: 0.6097 - accuracy: 0.6480 - val_loss: 0.6074 - val_accuracy: 0.6580\n",
            "Epoch 10/30\n",
            "63/63 [==============================] - 4s 60ms/step - loss: 0.5929 - accuracy: 0.6745 - val_loss: 0.6122 - val_accuracy: 0.6760\n",
            "Epoch 11/30\n",
            "63/63 [==============================] - 5s 71ms/step - loss: 0.6023 - accuracy: 0.6725 - val_loss: 0.6102 - val_accuracy: 0.6700\n",
            "Epoch 12/30\n",
            "63/63 [==============================] - 6s 98ms/step - loss: 0.5943 - accuracy: 0.6770 - val_loss: 0.6238 - val_accuracy: 0.6310\n",
            "Epoch 13/30\n",
            "63/63 [==============================] - 4s 58ms/step - loss: 0.5826 - accuracy: 0.7005 - val_loss: 0.5796 - val_accuracy: 0.7010\n",
            "Epoch 14/30\n",
            "63/63 [==============================] - 4s 59ms/step - loss: 0.5750 - accuracy: 0.6965 - val_loss: 0.5600 - val_accuracy: 0.7090\n",
            "Epoch 15/30\n",
            "63/63 [==============================] - 5s 79ms/step - loss: 0.5582 - accuracy: 0.7155 - val_loss: 0.5501 - val_accuracy: 0.7420\n",
            "Epoch 16/30\n",
            "63/63 [==============================] - 4s 60ms/step - loss: 0.5555 - accuracy: 0.7270 - val_loss: 0.7511 - val_accuracy: 0.5810\n",
            "Epoch 17/30\n",
            "63/63 [==============================] - 4s 58ms/step - loss: 0.5248 - accuracy: 0.7420 - val_loss: 0.5991 - val_accuracy: 0.6780\n",
            "Epoch 18/30\n",
            "63/63 [==============================] - 7s 110ms/step - loss: 0.5193 - accuracy: 0.7455 - val_loss: 0.5043 - val_accuracy: 0.7650\n",
            "Epoch 19/30\n",
            "63/63 [==============================] - 4s 59ms/step - loss: 0.5200 - accuracy: 0.7540 - val_loss: 0.4816 - val_accuracy: 0.7910\n",
            "Epoch 20/30\n",
            "63/63 [==============================] - 4s 63ms/step - loss: 0.5170 - accuracy: 0.7510 - val_loss: 0.4976 - val_accuracy: 0.7590\n",
            "Epoch 21/30\n",
            "63/63 [==============================] - 7s 99ms/step - loss: 0.4968 - accuracy: 0.7555 - val_loss: 0.4893 - val_accuracy: 0.7810\n",
            "Epoch 22/30\n",
            "63/63 [==============================] - 4s 58ms/step - loss: 0.4897 - accuracy: 0.7780 - val_loss: 0.4942 - val_accuracy: 0.7630\n",
            "Epoch 23/30\n",
            "63/63 [==============================] - 4s 58ms/step - loss: 0.4744 - accuracy: 0.7795 - val_loss: 0.4843 - val_accuracy: 0.7890\n",
            "Epoch 24/30\n",
            "63/63 [==============================] - 6s 89ms/step - loss: 0.4580 - accuracy: 0.7870 - val_loss: 0.5166 - val_accuracy: 0.7530\n",
            "Epoch 25/30\n",
            "63/63 [==============================] - 6s 87ms/step - loss: 0.4645 - accuracy: 0.7825 - val_loss: 0.4612 - val_accuracy: 0.8060\n",
            "Epoch 26/30\n",
            "63/63 [==============================] - 4s 58ms/step - loss: 0.4557 - accuracy: 0.7845 - val_loss: 0.4478 - val_accuracy: 0.8030\n",
            "Epoch 27/30\n",
            "63/63 [==============================] - 4s 57ms/step - loss: 0.4513 - accuracy: 0.7945 - val_loss: 0.4549 - val_accuracy: 0.8020\n",
            "Epoch 28/30\n",
            "63/63 [==============================] - 7s 100ms/step - loss: 0.4420 - accuracy: 0.7905 - val_loss: 0.4620 - val_accuracy: 0.7880\n",
            "Epoch 29/30\n",
            "63/63 [==============================] - 4s 59ms/step - loss: 0.4278 - accuracy: 0.8110 - val_loss: 0.4099 - val_accuracy: 0.8150\n",
            "Epoch 30/30\n",
            "63/63 [==============================] - 4s 58ms/step - loss: 0.4244 - accuracy: 0.8065 - val_loss: 0.4506 - val_accuracy: 0.8010\n"
          ]
        }
      ]
    },
    {
      "cell_type": "markdown",
      "source": [
        "Evaluating the model on the test set"
      ],
      "metadata": {
        "id": "2tK5OFdotaDI"
      }
    },
    {
      "cell_type": "code",
      "source": [
        "test_model2 = keras.models.load_model(\n",
        "    \"conv_from_scratch_with_augmentation_dropout.keras\")\n",
        "test_loss, test_acc = test_model2.evaluate(test_datset)\n",
        "print(f\"Test accuracy: {test_acc:.3f}\")"
      ],
      "metadata": {
        "colab": {
          "base_uri": "https://localhost:8080/"
        },
        "id": "YRwNyZGHsoqc",
        "outputId": "486e8088-41f3-46d4-ee5b-6a33501ac3a8"
      },
      "execution_count": 34,
      "outputs": [
        {
          "output_type": "stream",
          "name": "stdout",
          "text": [
            "32/32 [==============================] - 2s 30ms/step - loss: 0.3819 - accuracy: 0.8370\n",
            "Test accuracy: 0.837\n"
          ]
        }
      ]
    },
    {
      "cell_type": "markdown",
      "source": [
        "2. Increase your training sample size. You may pick any amount. Keep the validation and\n",
        "test samples the same as above. Optimize your network (again training from scratch).\n",
        "What performance did you achieve?"
      ],
      "metadata": {
        "id": "pkhR0CBbCwwd"
      }
    },
    {
      "cell_type": "markdown",
      "source": [
        "Here i am increasing the samples to 8000 and the model performance needs to be evaluated.\n",
        "\n",
        "The technique here i am using data augmentation and dropout due to the performance was high based on the previous models by using this."
      ],
      "metadata": {
        "id": "w9KBmAaGvkU1"
      }
    },
    {
      "cell_type": "code",
      "source": [
        "make_subset(\"train2\", start_index=1000, end_index=8000)\n",
        "\n",
        "train_dataset_2 = image_dataset_from_directory(\n",
        "    new_dir / \"train2\",\n",
        "    image_size=(180, 180),\n",
        "    batch_size=32)"
      ],
      "metadata": {
        "colab": {
          "base_uri": "https://localhost:8080/"
        },
        "id": "Ql1_TvQYX7-o",
        "outputId": "28a3494e-c28c-4822-90bc-35fb0af55bdc"
      },
      "execution_count": 35,
      "outputs": [
        {
          "output_type": "stream",
          "name": "stdout",
          "text": [
            "Found 14000 files belonging to 2 classes.\n"
          ]
        }
      ]
    },
    {
      "cell_type": "markdown",
      "source": [
        "New convnet that includes both image augmentation and dropout"
      ],
      "metadata": {
        "id": "Z8mlWF8WagRb"
      }
    },
    {
      "cell_type": "code",
      "source": [
        "inputs = keras.Input(shape=(180, 180, 3))\n",
        "x = data_augmentation(inputs)\n",
        "x = layers.Rescaling(1./255)(inputs)\n",
        "x = layers.Conv2D(filters=32, kernel_size=3, activation=\"relu\")(x)\n",
        "x = layers.MaxPooling2D(pool_size=2)(x)\n",
        "x = layers.Conv2D(filters=64, kernel_size=3, activation=\"relu\")(x)\n",
        "x = layers.MaxPooling2D(pool_size=2)(x)\n",
        "x = layers.Conv2D(filters=128, kernel_size=3, activation=\"relu\")(x)\n",
        "x = layers.MaxPooling2D(pool_size=2)(x)\n",
        "x = layers.Conv2D(filters=256, kernel_size=3, activation=\"relu\")(x)\n",
        "x = layers.MaxPooling2D(pool_size=2)(x)\n",
        "x = layers.Conv2D(filters=256, kernel_size=3, activation=\"relu\")(x)\n",
        "x = layers.Flatten()(x)\n",
        "x = layers.Dropout(0.5)(x)\n",
        "outputs = layers.Dense(1, activation=\"sigmoid\")(x)\n",
        "model = keras.Model(inputs=inputs, outputs=outputs)\n",
        "\n",
        "model.compile(loss=\"binary_crossentropy\",\n",
        "              optimizer=\"rmsprop\",\n",
        "              metrics=[\"accuracy\"])"
      ],
      "metadata": {
        "id": "AhxdjpjzYFsU"
      },
      "execution_count": 36,
      "outputs": []
    },
    {
      "cell_type": "markdown",
      "source": [
        "Training a reglularized convnet"
      ],
      "metadata": {
        "id": "p4UwnGlAahCe"
      }
    },
    {
      "cell_type": "code",
      "source": [
        "callbacks = [\n",
        "    keras.callbacks.ModelCheckpoint(\n",
        "        filepath=\"conv_from_scratch1.keras\",\n",
        "        save_best_only=True,\n",
        "        monitor=\"val_loss\")\n",
        "]\n",
        "history = model.fit(\n",
        "    train_dataset_2,\n",
        "    epochs=30,\n",
        "    validation_data=validation_datset,\n",
        "    callbacks=callbacks)"
      ],
      "metadata": {
        "colab": {
          "base_uri": "https://localhost:8080/"
        },
        "id": "m7BZ_VFjYImG",
        "outputId": "4900e685-cc7d-46ab-8327-2510a88291fb"
      },
      "execution_count": 37,
      "outputs": [
        {
          "output_type": "stream",
          "name": "stdout",
          "text": [
            "Epoch 1/30\n",
            "438/438 [==============================] - 26s 52ms/step - loss: 0.6673 - accuracy: 0.5828 - val_loss: 0.5957 - val_accuracy: 0.7140\n",
            "Epoch 2/30\n",
            "438/438 [==============================] - 24s 54ms/step - loss: 0.5509 - accuracy: 0.7215 - val_loss: 0.5175 - val_accuracy: 0.7290\n",
            "Epoch 3/30\n",
            "438/438 [==============================] - 24s 55ms/step - loss: 0.4690 - accuracy: 0.7779 - val_loss: 0.4410 - val_accuracy: 0.7910\n",
            "Epoch 4/30\n",
            "438/438 [==============================] - 23s 52ms/step - loss: 0.3968 - accuracy: 0.8217 - val_loss: 0.4998 - val_accuracy: 0.7720\n",
            "Epoch 5/30\n",
            "438/438 [==============================] - 25s 55ms/step - loss: 0.3335 - accuracy: 0.8546 - val_loss: 0.3691 - val_accuracy: 0.8340\n",
            "Epoch 6/30\n",
            "438/438 [==============================] - 23s 51ms/step - loss: 0.2815 - accuracy: 0.8814 - val_loss: 0.3567 - val_accuracy: 0.8550\n",
            "Epoch 7/30\n",
            "438/438 [==============================] - 25s 56ms/step - loss: 0.2422 - accuracy: 0.8959 - val_loss: 0.3797 - val_accuracy: 0.8510\n",
            "Epoch 8/30\n",
            "438/438 [==============================] - 25s 55ms/step - loss: 0.2046 - accuracy: 0.9181 - val_loss: 0.2950 - val_accuracy: 0.8780\n",
            "Epoch 9/30\n",
            "438/438 [==============================] - 23s 51ms/step - loss: 0.1730 - accuracy: 0.9301 - val_loss: 0.2792 - val_accuracy: 0.8960\n",
            "Epoch 10/30\n",
            "438/438 [==============================] - 25s 57ms/step - loss: 0.1392 - accuracy: 0.9449 - val_loss: 0.2526 - val_accuracy: 0.9060\n",
            "Epoch 11/30\n",
            "438/438 [==============================] - 23s 52ms/step - loss: 0.1323 - accuracy: 0.9489 - val_loss: 0.3134 - val_accuracy: 0.9040\n",
            "Epoch 12/30\n",
            "438/438 [==============================] - 23s 51ms/step - loss: 0.1120 - accuracy: 0.9598 - val_loss: 0.2467 - val_accuracy: 0.9080\n",
            "Epoch 13/30\n",
            "438/438 [==============================] - 27s 60ms/step - loss: 0.1043 - accuracy: 0.9643 - val_loss: 0.3992 - val_accuracy: 0.9010\n",
            "Epoch 14/30\n",
            "438/438 [==============================] - 23s 52ms/step - loss: 0.0971 - accuracy: 0.9655 - val_loss: 0.3568 - val_accuracy: 0.9080\n",
            "Epoch 15/30\n",
            "438/438 [==============================] - 24s 54ms/step - loss: 0.0911 - accuracy: 0.9702 - val_loss: 0.3738 - val_accuracy: 0.8840\n",
            "Epoch 16/30\n",
            "438/438 [==============================] - 24s 54ms/step - loss: 0.0960 - accuracy: 0.9701 - val_loss: 0.4913 - val_accuracy: 0.8950\n",
            "Epoch 17/30\n",
            "438/438 [==============================] - 23s 51ms/step - loss: 0.0854 - accuracy: 0.9728 - val_loss: 0.3633 - val_accuracy: 0.9000\n",
            "Epoch 18/30\n",
            "438/438 [==============================] - 23s 52ms/step - loss: 0.1052 - accuracy: 0.9681 - val_loss: 0.3975 - val_accuracy: 0.9110\n",
            "Epoch 19/30\n",
            "438/438 [==============================] - 25s 56ms/step - loss: 0.0858 - accuracy: 0.9724 - val_loss: 0.3899 - val_accuracy: 0.8980\n",
            "Epoch 20/30\n",
            "438/438 [==============================] - 25s 55ms/step - loss: 0.0849 - accuracy: 0.9747 - val_loss: 0.4111 - val_accuracy: 0.9060\n",
            "Epoch 21/30\n",
            "438/438 [==============================] - 23s 53ms/step - loss: 0.0949 - accuracy: 0.9724 - val_loss: 0.4202 - val_accuracy: 0.9140\n",
            "Epoch 22/30\n",
            "438/438 [==============================] - 25s 57ms/step - loss: 0.0922 - accuracy: 0.9744 - val_loss: 0.4486 - val_accuracy: 0.9030\n",
            "Epoch 23/30\n",
            "438/438 [==============================] - 24s 53ms/step - loss: 0.0920 - accuracy: 0.9748 - val_loss: 0.5075 - val_accuracy: 0.8990\n",
            "Epoch 24/30\n",
            "438/438 [==============================] - 23s 52ms/step - loss: 0.0929 - accuracy: 0.9757 - val_loss: 0.8500 - val_accuracy: 0.9110\n",
            "Epoch 25/30\n",
            "438/438 [==============================] - 23s 53ms/step - loss: 0.1146 - accuracy: 0.9749 - val_loss: 0.5636 - val_accuracy: 0.9070\n",
            "Epoch 26/30\n",
            "438/438 [==============================] - 25s 55ms/step - loss: 0.1021 - accuracy: 0.9743 - val_loss: 0.9800 - val_accuracy: 0.8700\n",
            "Epoch 27/30\n",
            "438/438 [==============================] - 24s 55ms/step - loss: 0.1006 - accuracy: 0.9770 - val_loss: 0.5373 - val_accuracy: 0.9100\n",
            "Epoch 28/30\n",
            "438/438 [==============================] - 25s 57ms/step - loss: 0.0980 - accuracy: 0.9784 - val_loss: 0.4509 - val_accuracy: 0.9300\n",
            "Epoch 29/30\n",
            "438/438 [==============================] - 25s 56ms/step - loss: 0.0980 - accuracy: 0.9768 - val_loss: 0.5569 - val_accuracy: 0.9010\n",
            "Epoch 30/30\n",
            "438/438 [==============================] - 23s 53ms/step - loss: 0.0918 - accuracy: 0.9781 - val_loss: 0.6257 - val_accuracy: 0.9200\n"
          ]
        }
      ]
    },
    {
      "cell_type": "markdown",
      "source": [
        "Evaluating the model with test set"
      ],
      "metadata": {
        "id": "x73_2W4aahtN"
      }
    },
    {
      "cell_type": "code",
      "source": [
        "test_model3 = keras.models.load_model(\n",
        "    \"conv_from_scratch1.keras\")\n",
        "test_loss, test_acc = test_model3.evaluate(test_datset)\n",
        "print(f\"Test accuracy: {test_acc:.3f}\")"
      ],
      "metadata": {
        "colab": {
          "base_uri": "https://localhost:8080/"
        },
        "id": "YZvHy3wAYNDW",
        "outputId": "ac77efdf-7f9c-4b72-a896-fb1646ec7e6f"
      },
      "execution_count": 38,
      "outputs": [
        {
          "output_type": "stream",
          "name": "stdout",
          "text": [
            "32/32 [==============================] - 2s 48ms/step - loss: 0.2946 - accuracy: 0.9030\n",
            "Test accuracy: 0.903\n"
          ]
        }
      ]
    },
    {
      "cell_type": "markdown",
      "source": [
        "3. Now change your training sample so that you achieve better performance than those\n",
        "from Steps 1 and 2. This sample size may be larger, or smaller than those in the previous\n",
        "steps. The objective is to find the ideal training sample size to get best prediction\n",
        "results."
      ],
      "metadata": {
        "id": "3ac-sHZLYiVy"
      }
    },
    {
      "cell_type": "markdown",
      "source": [
        "Increased the samples from 8000 to 10000 in order to check the efficiency of the model."
      ],
      "metadata": {
        "id": "ZyGqmVUVaiXp"
      }
    },
    {
      "cell_type": "code",
      "source": [
        "make_subset(\"train_3\", start_index=1000, end_index=10000)\n",
        "\n",
        "train_dataset_3 = image_dataset_from_directory(\n",
        "    new_dir / \"train_3\",\n",
        "    image_size=(180, 180),\n",
        "    batch_size=32)"
      ],
      "metadata": {
        "colab": {
          "base_uri": "https://localhost:8080/"
        },
        "id": "bQPwRuYEYNw2",
        "outputId": "d62616e4-c759-4272-9b73-4dabf86705ed"
      },
      "execution_count": 39,
      "outputs": [
        {
          "output_type": "stream",
          "name": "stdout",
          "text": [
            "Found 18000 files belonging to 2 classes.\n"
          ]
        }
      ]
    },
    {
      "cell_type": "markdown",
      "source": [
        "Model Building with both Image augmentation and dropout\n",
        "\n",
        "new convnet that includes both image augmentation and dropout"
      ],
      "metadata": {
        "id": "O0oqVC-DajTW"
      }
    },
    {
      "cell_type": "code",
      "source": [
        "from tensorflow import keras\n",
        "from tensorflow.keras import layers\n",
        "\n",
        "inputs = keras.Input(shape=(180, 180, 3))\n",
        "x = layers.Rescaling(1./255)(inputs)\n",
        "x = layers.Conv2D(filters=32, kernel_size=3, activation=\"relu\")(x)\n",
        "x = layers.MaxPooling2D(pool_size=2)(x)\n",
        "x = layers.Conv2D(filters=64, kernel_size=3, activation=\"relu\")(x)\n",
        "x = layers.MaxPooling2D(pool_size=2)(x)\n",
        "x = layers.Conv2D(filters=128, kernel_size=3, activation=\"relu\")(x)\n",
        "x = layers.MaxPooling2D(pool_size=2)(x)\n",
        "x = layers.Conv2D(filters=256, kernel_size=3, activation=\"relu\")(x)\n",
        "x = layers.MaxPooling2D(pool_size=2)(x)\n",
        "x = layers.Conv2D(filters=256, kernel_size=3, activation=\"relu\")(x)\n",
        "x = layers.Flatten()(x)\n",
        "outputs = layers.Dense(1, activation=\"sigmoid\")(x)\n",
        "model = keras.Model(inputs=inputs, outputs=outputs)\n",
        "\n",
        "model.compile(loss=\"binary_crossentropy\",\n",
        "              optimizer=\"rmsprop\",\n",
        "              metrics=[\"accuracy\"])"
      ],
      "metadata": {
        "id": "7LbbERyiYwDp"
      },
      "execution_count": 40,
      "outputs": []
    },
    {
      "cell_type": "markdown",
      "source": [
        "Training the regularized convnet"
      ],
      "metadata": {
        "id": "lXwvf9Hpaj9_"
      }
    },
    {
      "cell_type": "code",
      "source": [
        "callbacks = [\n",
        "    keras.callbacks.ModelCheckpoint(\n",
        "        filepath=\"conv_from_scratch_test1.keras\",\n",
        "        save_best_only=True,\n",
        "        monitor=\"val_loss\")\n",
        "]\n",
        "\n",
        "history = model.fit(\n",
        "    train_dataset_2,\n",
        "    epochs=25,\n",
        "    validation_data=validation_datset,\n",
        "    callbacks=callbacks)"
      ],
      "metadata": {
        "colab": {
          "base_uri": "https://localhost:8080/"
        },
        "id": "ibchiTZwY2Av",
        "outputId": "141ac816-92de-4a54-f938-2aea6095e374"
      },
      "execution_count": 41,
      "outputs": [
        {
          "output_type": "stream",
          "name": "stdout",
          "text": [
            "Epoch 1/25\n",
            "438/438 [==============================] - 27s 57ms/step - loss: 0.6595 - accuracy: 0.5914 - val_loss: 0.6023 - val_accuracy: 0.6850\n",
            "Epoch 2/25\n",
            "438/438 [==============================] - 23s 52ms/step - loss: 0.5421 - accuracy: 0.7316 - val_loss: 0.7450 - val_accuracy: 0.6050\n",
            "Epoch 3/25\n",
            "438/438 [==============================] - 25s 57ms/step - loss: 0.4407 - accuracy: 0.7956 - val_loss: 0.4489 - val_accuracy: 0.7950\n",
            "Epoch 4/25\n",
            "438/438 [==============================] - 25s 55ms/step - loss: 0.3680 - accuracy: 0.8350 - val_loss: 0.4123 - val_accuracy: 0.8320\n",
            "Epoch 5/25\n",
            "438/438 [==============================] - 24s 53ms/step - loss: 0.3038 - accuracy: 0.8701 - val_loss: 0.3439 - val_accuracy: 0.8510\n",
            "Epoch 6/25\n",
            "438/438 [==============================] - 25s 56ms/step - loss: 0.2429 - accuracy: 0.8995 - val_loss: 0.3424 - val_accuracy: 0.8780\n",
            "Epoch 7/25\n",
            "438/438 [==============================] - 25s 55ms/step - loss: 0.1961 - accuracy: 0.9194 - val_loss: 0.5182 - val_accuracy: 0.8270\n",
            "Epoch 8/25\n",
            "438/438 [==============================] - 24s 55ms/step - loss: 0.1526 - accuracy: 0.9404 - val_loss: 0.4974 - val_accuracy: 0.8430\n",
            "Epoch 9/25\n",
            "438/438 [==============================] - 26s 58ms/step - loss: 0.1220 - accuracy: 0.9531 - val_loss: 0.3628 - val_accuracy: 0.8660\n",
            "Epoch 10/25\n",
            "438/438 [==============================] - 23s 52ms/step - loss: 0.0938 - accuracy: 0.9656 - val_loss: 0.4571 - val_accuracy: 0.8710\n",
            "Epoch 11/25\n",
            "438/438 [==============================] - 23s 52ms/step - loss: 0.0861 - accuracy: 0.9687 - val_loss: 0.3912 - val_accuracy: 0.8910\n",
            "Epoch 12/25\n",
            "438/438 [==============================] - 24s 54ms/step - loss: 0.0807 - accuracy: 0.9718 - val_loss: 0.3778 - val_accuracy: 0.8900\n",
            "Epoch 13/25\n",
            "438/438 [==============================] - 26s 57ms/step - loss: 0.0645 - accuracy: 0.9781 - val_loss: 0.6134 - val_accuracy: 0.8860\n",
            "Epoch 14/25\n",
            "438/438 [==============================] - 23s 52ms/step - loss: 0.0696 - accuracy: 0.9779 - val_loss: 0.5577 - val_accuracy: 0.8980\n",
            "Epoch 15/25\n",
            "438/438 [==============================] - 23s 52ms/step - loss: 0.0638 - accuracy: 0.9802 - val_loss: 0.7219 - val_accuracy: 0.8760\n",
            "Epoch 16/25\n",
            "438/438 [==============================] - 27s 59ms/step - loss: 0.0632 - accuracy: 0.9799 - val_loss: 0.7278 - val_accuracy: 0.8950\n",
            "Epoch 17/25\n",
            "438/438 [==============================] - 23s 52ms/step - loss: 0.0671 - accuracy: 0.9826 - val_loss: 0.6153 - val_accuracy: 0.8910\n",
            "Epoch 18/25\n",
            "438/438 [==============================] - 24s 55ms/step - loss: 0.0803 - accuracy: 0.9798 - val_loss: 0.5751 - val_accuracy: 0.9080\n",
            "Epoch 19/25\n",
            "438/438 [==============================] - 24s 54ms/step - loss: 0.0554 - accuracy: 0.9851 - val_loss: 1.0150 - val_accuracy: 0.8760\n",
            "Epoch 20/25\n",
            "438/438 [==============================] - 23s 53ms/step - loss: 0.0646 - accuracy: 0.9837 - val_loss: 1.0091 - val_accuracy: 0.8850\n",
            "Epoch 21/25\n",
            "438/438 [==============================] - 23s 52ms/step - loss: 0.0693 - accuracy: 0.9836 - val_loss: 0.8578 - val_accuracy: 0.8770\n",
            "Epoch 22/25\n",
            "438/438 [==============================] - 25s 55ms/step - loss: 0.0651 - accuracy: 0.9829 - val_loss: 0.8537 - val_accuracy: 0.8850\n",
            "Epoch 23/25\n",
            "438/438 [==============================] - 23s 53ms/step - loss: 0.0679 - accuracy: 0.9838 - val_loss: 1.1654 - val_accuracy: 0.8830\n",
            "Epoch 24/25\n",
            "438/438 [==============================] - 25s 56ms/step - loss: 0.0586 - accuracy: 0.9873 - val_loss: 1.0750 - val_accuracy: 0.8930\n",
            "Epoch 25/25\n",
            "438/438 [==============================] - 24s 54ms/step - loss: 0.0726 - accuracy: 0.9856 - val_loss: 1.0076 - val_accuracy: 0.8940\n"
          ]
        }
      ]
    },
    {
      "cell_type": "markdown",
      "source": [
        "Evaluating the model with test set"
      ],
      "metadata": {
        "id": "ncT_8yogak6T"
      }
    },
    {
      "cell_type": "code",
      "source": [
        "test_model4 = keras.models.load_model(\n",
        "    \"conv_from_scratch_test1.keras\")\n",
        "test_loss, test_acc = test_model4.evaluate(test_datset)\n",
        "print(f\"Test accuracy: {test_acc:.3f}\")"
      ],
      "metadata": {
        "colab": {
          "base_uri": "https://localhost:8080/"
        },
        "id": "D_ZMvMkTY45t",
        "outputId": "74d3edff-1614-40be-e9f0-ed020d45a4e3"
      },
      "execution_count": 42,
      "outputs": [
        {
          "output_type": "stream",
          "name": "stdout",
          "text": [
            "32/32 [==============================] - 1s 28ms/step - loss: 0.3098 - accuracy: 0.8840\n",
            "Test accuracy: 0.884\n"
          ]
        }
      ]
    },
    {
      "cell_type": "markdown",
      "source": [
        "with dropout"
      ],
      "metadata": {
        "id": "OKrqE5idalwK"
      }
    },
    {
      "cell_type": "code",
      "source": [
        "inputs = keras.Input(shape=(180, 180, 3))\n",
        "x = data_augmentation(inputs)\n",
        "x = layers.Rescaling(1./255)(inputs)\n",
        "x = layers.Conv2D(filters=32, kernel_size=3, activation=\"relu\")(x)\n",
        "x = layers.MaxPooling2D(pool_size=2)(x)\n",
        "x = layers.Conv2D(filters=64, kernel_size=3, activation=\"relu\")(x)\n",
        "x = layers.MaxPooling2D(pool_size=2)(x)\n",
        "x = layers.Conv2D(filters=128, kernel_size=3, activation=\"relu\")(x)\n",
        "x = layers.MaxPooling2D(pool_size=2)(x)\n",
        "x = layers.Conv2D(filters=256, kernel_size=3, activation=\"relu\")(x)\n",
        "x = layers.MaxPooling2D(pool_size=2)(x)\n",
        "x = layers.Conv2D(filters=256, kernel_size=3, activation=\"relu\")(x)\n",
        "x = layers.Flatten()(x)\n",
        "x = layers.Dropout(0.5)(x)\n",
        "outputs = layers.Dense(1, activation=\"sigmoid\")(x)\n",
        "model = keras.Model(inputs=inputs, outputs=outputs)\n",
        "\n",
        "model.compile(loss=\"binary_crossentropy\",\n",
        "              optimizer=\"rmsprop\",\n",
        "              metrics=[\"accuracy\"])"
      ],
      "metadata": {
        "id": "LAWBTnrhY8Ap"
      },
      "execution_count": 43,
      "outputs": []
    },
    {
      "cell_type": "markdown",
      "source": [
        "Training the regularized convnet"
      ],
      "metadata": {
        "id": "iAiSBd_RampC"
      }
    },
    {
      "cell_type": "code",
      "source": [
        "callbacks = [\n",
        "    keras.callbacks.ModelCheckpoint(\n",
        "        filepath=\"conv_from_scratch2.keras\",\n",
        "        save_best_only=True,\n",
        "        monitor=\"val_loss\")\n",
        "]\n",
        "\n",
        "history = model.fit(\n",
        "    train_dataset_2,\n",
        "    epochs=20,\n",
        "    validation_data=validation_datset,\n",
        "    callbacks=callbacks)"
      ],
      "metadata": {
        "colab": {
          "base_uri": "https://localhost:8080/"
        },
        "id": "gIezG14VY_3I",
        "outputId": "2db5b65a-a5fb-483c-afc7-cac514938c7a"
      },
      "execution_count": 44,
      "outputs": [
        {
          "output_type": "stream",
          "name": "stdout",
          "text": [
            "Epoch 1/20\n",
            "438/438 [==============================] - 30s 53ms/step - loss: 0.6777 - accuracy: 0.5608 - val_loss: 0.6372 - val_accuracy: 0.6330\n",
            "Epoch 2/20\n",
            "438/438 [==============================] - 23s 52ms/step - loss: 0.5835 - accuracy: 0.6911 - val_loss: 0.5352 - val_accuracy: 0.7340\n",
            "Epoch 3/20\n",
            "438/438 [==============================] - 26s 58ms/step - loss: 0.4918 - accuracy: 0.7659 - val_loss: 0.4132 - val_accuracy: 0.8090\n",
            "Epoch 4/20\n",
            "438/438 [==============================] - 24s 53ms/step - loss: 0.4067 - accuracy: 0.8130 - val_loss: 0.3892 - val_accuracy: 0.8100\n",
            "Epoch 5/20\n",
            "438/438 [==============================] - 23s 52ms/step - loss: 0.3437 - accuracy: 0.8489 - val_loss: 0.6646 - val_accuracy: 0.7300\n",
            "Epoch 6/20\n",
            "438/438 [==============================] - 24s 55ms/step - loss: 0.2996 - accuracy: 0.8723 - val_loss: 0.4283 - val_accuracy: 0.8140\n",
            "Epoch 7/20\n",
            "438/438 [==============================] - 29s 65ms/step - loss: 0.2544 - accuracy: 0.8940 - val_loss: 0.2669 - val_accuracy: 0.8810\n",
            "Epoch 8/20\n",
            "438/438 [==============================] - 25s 56ms/step - loss: 0.2078 - accuracy: 0.9151 - val_loss: 0.4505 - val_accuracy: 0.8260\n",
            "Epoch 9/20\n",
            "438/438 [==============================] - 24s 55ms/step - loss: 0.1765 - accuracy: 0.9284 - val_loss: 0.4692 - val_accuracy: 0.8300\n",
            "Epoch 10/20\n",
            "438/438 [==============================] - 25s 56ms/step - loss: 0.1458 - accuracy: 0.9426 - val_loss: 0.3434 - val_accuracy: 0.8810\n",
            "Epoch 11/20\n",
            "438/438 [==============================] - 25s 56ms/step - loss: 0.1291 - accuracy: 0.9506 - val_loss: 0.3379 - val_accuracy: 0.9030\n",
            "Epoch 12/20\n",
            "438/438 [==============================] - 23s 53ms/step - loss: 0.1198 - accuracy: 0.9572 - val_loss: 0.3849 - val_accuracy: 0.8850\n",
            "Epoch 13/20\n",
            "438/438 [==============================] - 26s 58ms/step - loss: 0.1039 - accuracy: 0.9625 - val_loss: 0.3719 - val_accuracy: 0.8940\n",
            "Epoch 14/20\n",
            "438/438 [==============================] - 24s 55ms/step - loss: 0.0969 - accuracy: 0.9646 - val_loss: 0.4773 - val_accuracy: 0.8820\n",
            "Epoch 15/20\n",
            "438/438 [==============================] - 23s 52ms/step - loss: 0.0956 - accuracy: 0.9659 - val_loss: 0.5225 - val_accuracy: 0.8820\n",
            "Epoch 16/20\n",
            "438/438 [==============================] - 26s 59ms/step - loss: 0.0849 - accuracy: 0.9719 - val_loss: 0.4438 - val_accuracy: 0.9090\n",
            "Epoch 17/20\n",
            "438/438 [==============================] - 25s 56ms/step - loss: 0.0914 - accuracy: 0.9701 - val_loss: 0.4615 - val_accuracy: 0.8980\n",
            "Epoch 18/20\n",
            "438/438 [==============================] - 24s 54ms/step - loss: 0.0795 - accuracy: 0.9744 - val_loss: 0.6190 - val_accuracy: 0.8690\n",
            "Epoch 19/20\n",
            "438/438 [==============================] - 25s 57ms/step - loss: 0.0894 - accuracy: 0.9731 - val_loss: 0.5070 - val_accuracy: 0.8940\n",
            "Epoch 20/20\n",
            "438/438 [==============================] - 26s 59ms/step - loss: 0.0815 - accuracy: 0.9751 - val_loss: 0.4941 - val_accuracy: 0.9100\n"
          ]
        }
      ]
    },
    {
      "cell_type": "markdown",
      "source": [
        "evaluating the model with test set"
      ],
      "metadata": {
        "id": "MC6iIECrannC"
      }
    },
    {
      "cell_type": "code",
      "source": [
        "test_model = keras.models.load_model(\n",
        "    \"conv_from_scratch2.keras\")\n",
        "test_loss, test_acc = test_model.evaluate(test_datset)\n",
        "print(f\"Test accuracy: {test_acc:.3f}\")"
      ],
      "metadata": {
        "colab": {
          "base_uri": "https://localhost:8080/"
        },
        "id": "EiWdNzwSZDKK",
        "outputId": "fa6d5799-33b8-4bd7-da07-98e873ab7509"
      },
      "execution_count": 45,
      "outputs": [
        {
          "output_type": "stream",
          "name": "stdout",
          "text": [
            "32/32 [==============================] - 1s 29ms/step - loss: 0.2562 - accuracy: 0.8920\n",
            "Test accuracy: 0.892\n"
          ]
        }
      ]
    },
    {
      "cell_type": "markdown",
      "source": [
        "4.Repeat Steps 1-3, but now using a pretrained network. The sample sizes you use in\n",
        "Steps 2 and 3 for the pretrained network may be the same or different from those using\n",
        "the network where you trained from scratch. Again, use any and all optimization\n",
        "techniques to get best performance"
      ],
      "metadata": {
        "id": "PZPsuuuzZJpc"
      }
    },
    {
      "cell_type": "markdown",
      "source": [
        "**Pre-training model--1000 training samples**\n",
        "\n",
        "Here install and freezing the VGG16 convolution base"
      ],
      "metadata": {
        "id": "aYOb4IgZaold"
      }
    },
    {
      "cell_type": "code",
      "source": [
        "conv_base  = keras.applications.vgg16.VGG16(\n",
        "    weights=\"imagenet\",\n",
        "    include_top=False,\n",
        "    input_shape=(180, 180, 3))"
      ],
      "metadata": {
        "id": "mFszGgo4ZGrU",
        "colab": {
          "base_uri": "https://localhost:8080/"
        },
        "outputId": "1e4276a1-4996-4874-e2a7-23d9d53ea833"
      },
      "execution_count": 46,
      "outputs": [
        {
          "output_type": "stream",
          "name": "stdout",
          "text": [
            "Downloading data from https://storage.googleapis.com/tensorflow/keras-applications/vgg16/vgg16_weights_tf_dim_ordering_tf_kernels_notop.h5\n",
            "58889256/58889256 [==============================] - 0s 0us/step\n"
          ]
        }
      ]
    },
    {
      "cell_type": "markdown",
      "source": [
        "Let's get the summary of the convbase."
      ],
      "metadata": {
        "id": "Tkw24qm7apXb"
      }
    },
    {
      "cell_type": "code",
      "source": [
        "conv_base.summary()"
      ],
      "metadata": {
        "id": "YeLQ660hZSt3",
        "colab": {
          "base_uri": "https://localhost:8080/"
        },
        "outputId": "dcb44390-b739-4bf8-fba2-894b1723e3c0"
      },
      "execution_count": 47,
      "outputs": [
        {
          "output_type": "stream",
          "name": "stdout",
          "text": [
            "Model: \"vgg16\"\n",
            "_________________________________________________________________\n",
            " Layer (type)                Output Shape              Param #   \n",
            "=================================================================\n",
            " input_8 (InputLayer)        [(None, 180, 180, 3)]     0         \n",
            "                                                                 \n",
            " block1_conv1 (Conv2D)       (None, 180, 180, 64)      1792      \n",
            "                                                                 \n",
            " block1_conv2 (Conv2D)       (None, 180, 180, 64)      36928     \n",
            "                                                                 \n",
            " block1_pool (MaxPooling2D)  (None, 90, 90, 64)        0         \n",
            "                                                                 \n",
            " block2_conv1 (Conv2D)       (None, 90, 90, 128)       73856     \n",
            "                                                                 \n",
            " block2_conv2 (Conv2D)       (None, 90, 90, 128)       147584    \n",
            "                                                                 \n",
            " block2_pool (MaxPooling2D)  (None, 45, 45, 128)       0         \n",
            "                                                                 \n",
            " block3_conv1 (Conv2D)       (None, 45, 45, 256)       295168    \n",
            "                                                                 \n",
            " block3_conv2 (Conv2D)       (None, 45, 45, 256)       590080    \n",
            "                                                                 \n",
            " block3_conv3 (Conv2D)       (None, 45, 45, 256)       590080    \n",
            "                                                                 \n",
            " block3_pool (MaxPooling2D)  (None, 22, 22, 256)       0         \n",
            "                                                                 \n",
            " block4_conv1 (Conv2D)       (None, 22, 22, 512)       1180160   \n",
            "                                                                 \n",
            " block4_conv2 (Conv2D)       (None, 22, 22, 512)       2359808   \n",
            "                                                                 \n",
            " block4_conv3 (Conv2D)       (None, 22, 22, 512)       2359808   \n",
            "                                                                 \n",
            " block4_pool (MaxPooling2D)  (None, 11, 11, 512)       0         \n",
            "                                                                 \n",
            " block5_conv1 (Conv2D)       (None, 11, 11, 512)       2359808   \n",
            "                                                                 \n",
            " block5_conv2 (Conv2D)       (None, 11, 11, 512)       2359808   \n",
            "                                                                 \n",
            " block5_conv3 (Conv2D)       (None, 11, 11, 512)       2359808   \n",
            "                                                                 \n",
            " block5_pool (MaxPooling2D)  (None, 5, 5, 512)         0         \n",
            "                                                                 \n",
            "=================================================================\n",
            "Total params: 14714688 (56.13 MB)\n",
            "Trainable params: 14714688 (56.13 MB)\n",
            "Non-trainable params: 0 (0.00 Byte)\n",
            "_________________________________________________________________\n"
          ]
        }
      ]
    },
    {
      "cell_type": "markdown",
      "source": [
        "**Feature extraction with data augmentation**"
      ],
      "metadata": {
        "id": "tx5vHvsAQpAA"
      }
    },
    {
      "cell_type": "code",
      "source": [
        "conv_base  = keras.applications.vgg16.VGG16(\n",
        "    weights=\"imagenet\",\n",
        "    include_top=False)"
      ],
      "metadata": {
        "id": "jKgIMQruZVPK"
      },
      "execution_count": 48,
      "outputs": []
    },
    {
      "cell_type": "markdown",
      "source": [
        "**Adding a data augmentation and a classifier to the convnet base.**"
      ],
      "metadata": {
        "id": "beAoVTy5asAn"
      }
    },
    {
      "cell_type": "code",
      "source": [
        "data_augmentation = keras.Sequential(\n",
        "    [\n",
        "        layers.RandomFlip(\"horizontal\"),\n",
        "        layers.RandomRotation(0.3),\n",
        "        layers.RandomZoom(0.5),\n",
        "    ]\n",
        ")\n",
        "\n",
        "inputs = keras.Input(shape=(180, 180, 3))\n",
        "x = data_augmentation(inputs)\n",
        "x = layers.Rescaling(1./255)(x)\n",
        "x = layers.Conv2D(filters=32, kernel_size=3, activation=\"relu\")(x)\n",
        "x = layers.MaxPooling2D(pool_size=2)(x)\n",
        "x = layers.Conv2D(filters=64, kernel_size=3, activation=\"relu\")(x)\n",
        "x = layers.MaxPooling2D(pool_size=2)(x)\n",
        "x = layers.Conv2D(filters=128, kernel_size=3, activation=\"relu\")(x)\n",
        "x = layers.MaxPooling2D(pool_size=2)(x)\n",
        "x = layers.Conv2D(filters=256, kernel_size=3, activation=\"relu\")(x)\n",
        "x = layers.MaxPooling2D(pool_size=2)(x)\n",
        "x = layers.Conv2D(filters=256, kernel_size=3, activation=\"relu\")(x)\n",
        "x = layers.Flatten()(x)\n",
        "x = layers.Dropout(0.5)(x)\n",
        "outputs = layers.Dense(1, activation=\"sigmoid\")(x)\n",
        "model = keras.Model(inputs=inputs, outputs=outputs)\n",
        "\n",
        "model.compile(loss=\"binary_crossentropy\",optimizer=\"rmsprop\",metrics=[\"accuracy\"])"
      ],
      "metadata": {
        "id": "EtCsK_IlZaYa"
      },
      "execution_count": null,
      "outputs": []
    },
    {
      "cell_type": "markdown",
      "source": [
        "**Training the regularized convnet**"
      ],
      "metadata": {
        "id": "DpJDk1KBpGvT"
      }
    },
    {
      "cell_type": "code",
      "source": [
        "callbacks = [\n",
        "    keras.callbacks.ModelCheckpoint(\n",
        "        filepath=\"convnet_from_scratch_augmentation.keras\",\n",
        "        save_best_only=True,\n",
        "        monitor=\"val_loss\")\n",
        "]\n",
        "history = model.fit(\n",
        "   train_datset,\n",
        "   epochs=50,\n",
        "   validation_data=validation_datset,\n",
        "   callbacks=callbacks)"
      ],
      "metadata": {
        "colab": {
          "base_uri": "https://localhost:8080/"
        },
        "id": "0FH2dlg_pF-H",
        "outputId": "28db0094-752b-4503-b281-d0435f51732c"
      },
      "execution_count": null,
      "outputs": [
        {
          "output_type": "stream",
          "name": "stdout",
          "text": [
            "Epoch 1/50\n",
            "63/63 [==============================] - 4s 60ms/step - loss: 0.6904 - accuracy: 0.5285 - val_loss: 0.6843 - val_accuracy: 0.5320\n",
            "Epoch 2/50\n",
            "63/63 [==============================] - 4s 58ms/step - loss: 0.6855 - accuracy: 0.5565 - val_loss: 0.6706 - val_accuracy: 0.5720\n",
            "Epoch 3/50\n",
            "63/63 [==============================] - 6s 95ms/step - loss: 0.6829 - accuracy: 0.5840 - val_loss: 0.6654 - val_accuracy: 0.5760\n",
            "Epoch 4/50\n",
            "63/63 [==============================] - 6s 83ms/step - loss: 0.6751 - accuracy: 0.6070 - val_loss: 0.6529 - val_accuracy: 0.5970\n",
            "Epoch 5/50\n",
            "63/63 [==============================] - 4s 59ms/step - loss: 0.6489 - accuracy: 0.6170 - val_loss: 0.6784 - val_accuracy: 0.6130\n",
            "Epoch 6/50\n",
            "63/63 [==============================] - 6s 85ms/step - loss: 0.6519 - accuracy: 0.6265 - val_loss: 0.6431 - val_accuracy: 0.6410\n",
            "Epoch 7/50\n",
            "63/63 [==============================] - 4s 60ms/step - loss: 0.6595 - accuracy: 0.6235 - val_loss: 0.6400 - val_accuracy: 0.6540\n",
            "Epoch 8/50\n",
            "63/63 [==============================] - 4s 63ms/step - loss: 0.6478 - accuracy: 0.6305 - val_loss: 0.6198 - val_accuracy: 0.6650\n",
            "Epoch 9/50\n",
            "63/63 [==============================] - 8s 114ms/step - loss: 0.6397 - accuracy: 0.6290 - val_loss: 0.6121 - val_accuracy: 0.6750\n",
            "Epoch 10/50\n",
            "63/63 [==============================] - 4s 61ms/step - loss: 0.6338 - accuracy: 0.6305 - val_loss: 0.6290 - val_accuracy: 0.6500\n",
            "Epoch 11/50\n",
            "63/63 [==============================] - 6s 84ms/step - loss: 0.6445 - accuracy: 0.6355 - val_loss: 0.8469 - val_accuracy: 0.5650\n",
            "Epoch 12/50\n",
            "63/63 [==============================] - 4s 58ms/step - loss: 0.6274 - accuracy: 0.6390 - val_loss: 0.6484 - val_accuracy: 0.6270\n",
            "Epoch 13/50\n",
            "63/63 [==============================] - 5s 69ms/step - loss: 0.6234 - accuracy: 0.6525 - val_loss: 0.7068 - val_accuracy: 0.5650\n",
            "Epoch 14/50\n",
            "63/63 [==============================] - 7s 104ms/step - loss: 0.6143 - accuracy: 0.6710 - val_loss: 0.6035 - val_accuracy: 0.6970\n",
            "Epoch 15/50\n",
            "63/63 [==============================] - 4s 59ms/step - loss: 0.6195 - accuracy: 0.6715 - val_loss: 0.6244 - val_accuracy: 0.6430\n",
            "Epoch 16/50\n",
            "63/63 [==============================] - 4s 59ms/step - loss: 0.6024 - accuracy: 0.6615 - val_loss: 0.5933 - val_accuracy: 0.6980\n",
            "Epoch 17/50\n",
            "63/63 [==============================] - 6s 91ms/step - loss: 0.6060 - accuracy: 0.6795 - val_loss: 0.7489 - val_accuracy: 0.5690\n",
            "Epoch 18/50\n",
            "63/63 [==============================] - 6s 86ms/step - loss: 0.6337 - accuracy: 0.6725 - val_loss: 0.6033 - val_accuracy: 0.7130\n",
            "Epoch 19/50\n",
            "63/63 [==============================] - 4s 58ms/step - loss: 0.5974 - accuracy: 0.6795 - val_loss: 0.6049 - val_accuracy: 0.6570\n",
            "Epoch 20/50\n",
            "63/63 [==============================] - 4s 61ms/step - loss: 0.6038 - accuracy: 0.6715 - val_loss: 0.5846 - val_accuracy: 0.6940\n",
            "Epoch 21/50\n",
            "63/63 [==============================] - 6s 98ms/step - loss: 0.5981 - accuracy: 0.6780 - val_loss: 0.5855 - val_accuracy: 0.6920\n",
            "Epoch 22/50\n",
            "63/63 [==============================] - 5s 73ms/step - loss: 0.5912 - accuracy: 0.7000 - val_loss: 0.6193 - val_accuracy: 0.6630\n",
            "Epoch 23/50\n",
            "63/63 [==============================] - 4s 59ms/step - loss: 0.5952 - accuracy: 0.6940 - val_loss: 0.5539 - val_accuracy: 0.7410\n",
            "Epoch 24/50\n",
            "63/63 [==============================] - 4s 62ms/step - loss: 0.5885 - accuracy: 0.6890 - val_loss: 0.6672 - val_accuracy: 0.6290\n",
            "Epoch 25/50\n",
            "63/63 [==============================] - 7s 104ms/step - loss: 0.5935 - accuracy: 0.6845 - val_loss: 0.5718 - val_accuracy: 0.7060\n",
            "Epoch 26/50\n",
            "63/63 [==============================] - 4s 58ms/step - loss: 0.5913 - accuracy: 0.6950 - val_loss: 0.5847 - val_accuracy: 0.6880\n",
            "Epoch 27/50\n",
            "63/63 [==============================] - 4s 57ms/step - loss: 0.5843 - accuracy: 0.6890 - val_loss: 0.5684 - val_accuracy: 0.7090\n",
            "Epoch 28/50\n",
            "63/63 [==============================] - 5s 79ms/step - loss: 0.5791 - accuracy: 0.6995 - val_loss: 0.5814 - val_accuracy: 0.7050\n",
            "Epoch 29/50\n",
            "63/63 [==============================] - 4s 63ms/step - loss: 0.5746 - accuracy: 0.7015 - val_loss: 0.5963 - val_accuracy: 0.6780\n",
            "Epoch 30/50\n",
            "63/63 [==============================] - 4s 59ms/step - loss: 0.5803 - accuracy: 0.6835 - val_loss: 0.6360 - val_accuracy: 0.6650\n",
            "Epoch 31/50\n",
            "63/63 [==============================] - 7s 102ms/step - loss: 0.5715 - accuracy: 0.6925 - val_loss: 0.6450 - val_accuracy: 0.6400\n",
            "Epoch 32/50\n",
            "63/63 [==============================] - 4s 59ms/step - loss: 0.5667 - accuracy: 0.6970 - val_loss: 0.5805 - val_accuracy: 0.6980\n",
            "Epoch 33/50\n",
            "63/63 [==============================] - 7s 105ms/step - loss: 0.5643 - accuracy: 0.7025 - val_loss: 0.5707 - val_accuracy: 0.7090\n",
            "Epoch 34/50\n",
            "63/63 [==============================] - 5s 72ms/step - loss: 0.5717 - accuracy: 0.6905 - val_loss: 0.5461 - val_accuracy: 0.7220\n",
            "Epoch 35/50\n",
            "63/63 [==============================] - 7s 101ms/step - loss: 0.5653 - accuracy: 0.7055 - val_loss: 0.6932 - val_accuracy: 0.6660\n",
            "Epoch 36/50\n",
            "63/63 [==============================] - 8s 111ms/step - loss: 0.5684 - accuracy: 0.7130 - val_loss: 0.5343 - val_accuracy: 0.7310\n",
            "Epoch 37/50\n",
            "63/63 [==============================] - 4s 58ms/step - loss: 0.5641 - accuracy: 0.7195 - val_loss: 0.5878 - val_accuracy: 0.6880\n",
            "Epoch 38/50\n",
            "63/63 [==============================] - 4s 58ms/step - loss: 0.5602 - accuracy: 0.7075 - val_loss: 0.5881 - val_accuracy: 0.6940\n",
            "Epoch 39/50\n",
            "63/63 [==============================] - 6s 95ms/step - loss: 0.5609 - accuracy: 0.7145 - val_loss: 0.5370 - val_accuracy: 0.7380\n",
            "Epoch 40/50\n",
            "63/63 [==============================] - 4s 59ms/step - loss: 0.5452 - accuracy: 0.7310 - val_loss: 0.5636 - val_accuracy: 0.7130\n",
            "Epoch 41/50\n",
            "63/63 [==============================] - 5s 84ms/step - loss: 0.5498 - accuracy: 0.7240 - val_loss: 0.5472 - val_accuracy: 0.7270\n",
            "Epoch 42/50\n",
            "63/63 [==============================] - 4s 58ms/step - loss: 0.5495 - accuracy: 0.7125 - val_loss: 0.5731 - val_accuracy: 0.7080\n",
            "Epoch 43/50\n",
            "63/63 [==============================] - 4s 63ms/step - loss: 0.5562 - accuracy: 0.7120 - val_loss: 0.6142 - val_accuracy: 0.6570\n",
            "Epoch 44/50\n",
            "63/63 [==============================] - 7s 106ms/step - loss: 0.5472 - accuracy: 0.7185 - val_loss: 0.5631 - val_accuracy: 0.7240\n",
            "Epoch 45/50\n",
            "63/63 [==============================] - 5s 72ms/step - loss: 0.5458 - accuracy: 0.7320 - val_loss: 0.6768 - val_accuracy: 0.6890\n",
            "Epoch 46/50\n",
            "63/63 [==============================] - 4s 63ms/step - loss: 0.5530 - accuracy: 0.7240 - val_loss: 0.5337 - val_accuracy: 0.7380\n",
            "Epoch 47/50\n",
            "63/63 [==============================] - 5s 71ms/step - loss: 0.5501 - accuracy: 0.7230 - val_loss: 0.5907 - val_accuracy: 0.7080\n",
            "Epoch 48/50\n",
            "63/63 [==============================] - 8s 113ms/step - loss: 0.5354 - accuracy: 0.7440 - val_loss: 0.5980 - val_accuracy: 0.7250\n",
            "Epoch 49/50\n",
            "63/63 [==============================] - 4s 60ms/step - loss: 0.5460 - accuracy: 0.7195 - val_loss: 0.5284 - val_accuracy: 0.7470\n",
            "Epoch 50/50\n",
            "63/63 [==============================] - 4s 59ms/step - loss: 0.5449 - accuracy: 0.7310 - val_loss: 0.5329 - val_accuracy: 0.7420\n"
          ]
        }
      ]
    },
    {
      "cell_type": "markdown",
      "source": [
        "**Plotting the curves for loss and accuracy during training**"
      ],
      "metadata": {
        "id": "vSQdt4hLpjFY"
      }
    },
    {
      "cell_type": "code",
      "source": [
        "import matplotlib.pyplot as plt\n",
        "accuracy = history.history[\"accuracy\"]\n",
        "val_accuracy = history.history[\"val_accuracy\"]\n",
        "loss = history.history[\"loss\"]\n",
        "val_loss = history.history[\"val_loss\"]\n",
        "epochs = range(1, len(accuracy) + 1)\n",
        "plt.plot(epochs, accuracy, \"bo\", label=\"Training accuracy\")\n",
        "plt.plot(epochs, val_accuracy, \"b\", label=\"Validation accuracy\")\n",
        "plt.title(\"Training and validation accuracy with Data Augmentation\")\n",
        "plt.legend()\n",
        "plt.figure()\n",
        "plt.plot(epochs, loss, \"bo\", label=\"Training loss\")\n",
        "plt.plot(epochs, val_loss, \"b\", label=\"Validation loss\")\n",
        "plt.title(\"Training and validation loss with Data Augmentation\")\n",
        "plt.legend()\n",
        "plt.show()"
      ],
      "metadata": {
        "colab": {
          "base_uri": "https://localhost:8080/",
          "height": 887
        },
        "id": "eIhwt2sjpiss",
        "outputId": "a95da540-7ec8-4656-a882-5eaac37d28da"
      },
      "execution_count": null,
      "outputs": [
        {
          "output_type": "display_data",
          "data": {
            "text/plain": [
              "<Figure size 640x480 with 1 Axes>"
            ],
            "image/png": "[encoded data removed]"
          },
          "metadata": {}
        },
        {
          "output_type": "display_data",
          "data": {
            "text/plain": [
              "<Figure size 640x480 with 1 Axes>"
            ],
            "image/png": "[encoded data removed]"
          },
          "metadata": {}
        }
      ]
    },
    {
      "cell_type": "markdown",
      "source": [
        "**Evaluating the model on the test set**"
      ],
      "metadata": {
        "id": "NAAIIp0tp1dT"
      }
    },
    {
      "cell_type": "code",
      "source": [
        "test_model5 = keras.models.load_model(\"convnet_from_scratch_augmentation.keras\")\n",
        "test_loss, test_acc = test_model5.evaluate(test_datset)\n",
        "print(f\"Test accuracy: {test_acc:.3f}\")"
      ],
      "metadata": {
        "colab": {
          "base_uri": "https://localhost:8080/"
        },
        "id": "s4v7A5tLp5oQ",
        "outputId": "1f1c18aa-44b4-44ff-903e-01a67c62e1ee"
      },
      "execution_count": null,
      "outputs": [
        {
          "output_type": "stream",
          "name": "stdout",
          "text": [
            "32/32 [==============================] - 2s 53ms/step - loss: 0.5003 - accuracy: 0.7650\n",
            "Test accuracy: 0.765\n"
          ]
        }
      ]
    },
    {
      "cell_type": "markdown",
      "source": [
        "**Leveraging a Pretrained model**"
      ],
      "metadata": {
        "id": "uVx3hUukzein"
      }
    },
    {
      "cell_type": "code",
      "source": [
        "conv_base = keras.applications.vgg16.VGG16(\n",
        "    weights=\"imagenet\",\n",
        "    include_top=False,\n",
        "    input_shape=(180, 180, 3))\n",
        "conv_base.summary()"
      ],
      "metadata": {
        "colab": {
          "base_uri": "https://localhost:8080/"
        },
        "id": "vIH71sBC1kyr",
        "outputId": "d7314da8-a4f7-4ad1-d3ec-7f8fe9ed7030"
      },
      "execution_count": null,
      "outputs": [
        {
          "output_type": "stream",
          "name": "stdout",
          "text": [
            "Model: \"vgg16\"\n",
            "_________________________________________________________________\n",
            " Layer (type)                Output Shape              Param #   \n",
            "=================================================================\n",
            " input_14 (InputLayer)       [(None, 180, 180, 3)]     0         \n",
            "                                                                 \n",
            " block1_conv1 (Conv2D)       (None, 180, 180, 64)      1792      \n",
            "                                                                 \n",
            " block1_conv2 (Conv2D)       (None, 180, 180, 64)      36928     \n",
            "                                                                 \n",
            " block1_pool (MaxPooling2D)  (None, 90, 90, 64)        0         \n",
            "                                                                 \n",
            " block2_conv1 (Conv2D)       (None, 90, 90, 128)       73856     \n",
            "                                                                 \n",
            " block2_conv2 (Conv2D)       (None, 90, 90, 128)       147584    \n",
            "                                                                 \n",
            " block2_pool (MaxPooling2D)  (None, 45, 45, 128)       0         \n",
            "                                                                 \n",
            " block3_conv1 (Conv2D)       (None, 45, 45, 256)       295168    \n",
            "                                                                 \n",
            " block3_conv2 (Conv2D)       (None, 45, 45, 256)       590080    \n",
            "                                                                 \n",
            " block3_conv3 (Conv2D)       (None, 45, 45, 256)       590080    \n",
            "                                                                 \n",
            " block3_pool (MaxPooling2D)  (None, 22, 22, 256)       0         \n",
            "                                                                 \n",
            " block4_conv1 (Conv2D)       (None, 22, 22, 512)       1180160   \n",
            "                                                                 \n",
            " block4_conv2 (Conv2D)       (None, 22, 22, 512)       2359808   \n",
            "                                                                 \n",
            " block4_conv3 (Conv2D)       (None, 22, 22, 512)       2359808   \n",
            "                                                                 \n",
            " block4_pool (MaxPooling2D)  (None, 11, 11, 512)       0         \n",
            "                                                                 \n",
            " block5_conv1 (Conv2D)       (None, 11, 11, 512)       2359808   \n",
            "                                                                 \n",
            " block5_conv2 (Conv2D)       (None, 11, 11, 512)       2359808   \n",
            "                                                                 \n",
            " block5_conv3 (Conv2D)       (None, 11, 11, 512)       2359808   \n",
            "                                                                 \n",
            " block5_pool (MaxPooling2D)  (None, 5, 5, 512)         0         \n",
            "                                                                 \n",
            "=================================================================\n",
            "Total params: 14714688 (56.13 MB)\n",
            "Trainable params: 14714688 (56.13 MB)\n",
            "Non-trainable params: 0 (0.00 Byte)\n",
            "_________________________________________________________________\n"
          ]
        }
      ]
    },
    {
      "cell_type": "markdown",
      "source": [
        "**Extracting the VGG16 features and corresponding labels** by calling predict() method of the convolution base without Data Augmentation"
      ],
      "metadata": {
        "id": "a3PptoA4zp0h"
      }
    },
    {
      "cell_type": "code",
      "source": [
        "import numpy as np\n",
        "def get_features_and_labels(dataset):\n",
        "    all_features = []\n",
        "    all_labels = []\n",
        "    for images, labels in dataset:\n",
        "        preprocessed_images = keras.applications.vgg16.preprocess_input(images)\n",
        "        features = conv_base.predict(preprocessed_images)\n",
        "        all_features.append(features)\n",
        "        all_labels.append(labels)\n",
        "    return np.concatenate(all_features), np.concatenate(all_labels)\n",
        "\n",
        "train_features, train_labels = get_features_and_labels(train_datset)\n",
        "val_features, val_labels = get_features_and_labels(validation_datset)\n",
        "test_features, test_labels = get_features_and_labels(test_datset)"
      ],
      "metadata": {
        "colab": {
          "base_uri": "https://localhost:8080/"
        },
        "id": "klXb-UKczjVY",
        "outputId": "109ceedb-3cf2-43f4-e55f-5d05f24399a0"
      },
      "execution_count": null,
      "outputs": [
        {
          "output_type": "stream",
          "name": "stdout",
          "text": [
            "1/1 [==============================] - 0s 132ms/step\n",
            "1/1 [==============================] - 0s 27ms/step\n",
            "1/1 [==============================] - 0s 27ms/step\n",
            "1/1 [==============================] - 0s 32ms/step\n",
            "1/1 [==============================] - 0s 24ms/step\n",
            "1/1 [==============================] - 0s 36ms/step\n",
            "1/1 [==============================] - 0s 24ms/step\n",
            "1/1 [==============================] - 0s 23ms/step\n",
            "1/1 [==============================] - 0s 24ms/step\n",
            "1/1 [==============================] - 0s 23ms/step\n",
            "1/1 [==============================] - 0s 30ms/step\n",
            "1/1 [==============================] - 0s 23ms/step\n",
            "1/1 [==============================] - 0s 23ms/step\n",
            "1/1 [==============================] - 0s 22ms/step\n",
            "1/1 [==============================] - 0s 23ms/step\n",
            "1/1 [==============================] - 0s 25ms/step\n",
            "1/1 [==============================] - 0s 24ms/step\n",
            "1/1 [==============================] - 0s 23ms/step\n",
            "1/1 [==============================] - 0s 23ms/step\n",
            "1/1 [==============================] - 0s 24ms/step\n",
            "1/1 [==============================] - 0s 22ms/step\n",
            "1/1 [==============================] - 0s 25ms/step\n",
            "1/1 [==============================] - 0s 24ms/step\n",
            "1/1 [==============================] - 0s 29ms/step\n",
            "1/1 [==============================] - 0s 23ms/step\n",
            "1/1 [==============================] - 0s 26ms/step\n",
            "1/1 [==============================] - 0s 24ms/step\n",
            "1/1 [==============================] - 0s 23ms/step\n",
            "1/1 [==============================] - 0s 31ms/step\n",
            "1/1 [==============================] - 0s 23ms/step\n",
            "1/1 [==============================] - 0s 26ms/step\n",
            "1/1 [==============================] - 0s 31ms/step\n",
            "1/1 [==============================] - 0s 24ms/step\n",
            "1/1 [==============================] - 0s 23ms/step\n",
            "1/1 [==============================] - 0s 28ms/step\n",
            "1/1 [==============================] - 0s 23ms/step\n",
            "1/1 [==============================] - 0s 24ms/step\n",
            "1/1 [==============================] - 0s 25ms/step\n",
            "1/1 [==============================] - 0s 34ms/step\n",
            "1/1 [==============================] - 0s 23ms/step\n",
            "1/1 [==============================] - 0s 23ms/step\n",
            "1/1 [==============================] - 0s 23ms/step\n",
            "1/1 [==============================] - 0s 25ms/step\n",
            "1/1 [==============================] - 0s 23ms/step\n",
            "1/1 [==============================] - 0s 26ms/step\n",
            "1/1 [==============================] - 0s 24ms/step\n",
            "1/1 [==============================] - 0s 23ms/step\n",
            "1/1 [==============================] - 0s 23ms/step\n",
            "1/1 [==============================] - 0s 28ms/step\n",
            "1/1 [==============================] - 0s 23ms/step\n",
            "1/1 [==============================] - 0s 23ms/step\n",
            "1/1 [==============================] - 0s 22ms/step\n",
            "1/1 [==============================] - 0s 34ms/step\n",
            "1/1 [==============================] - 0s 33ms/step\n",
            "1/1 [==============================] - 0s 30ms/step\n",
            "1/1 [==============================] - 0s 31ms/step\n",
            "1/1 [==============================] - 0s 29ms/step\n",
            "1/1 [==============================] - 0s 31ms/step\n",
            "1/1 [==============================] - 0s 34ms/step\n",
            "1/1 [==============================] - 0s 32ms/step\n",
            "1/1 [==============================] - 0s 34ms/step\n",
            "1/1 [==============================] - 0s 36ms/step\n",
            "1/1 [==============================] - 0s 183ms/step\n",
            "1/1 [==============================] - 0s 24ms/step\n",
            "1/1 [==============================] - 0s 23ms/step\n",
            "1/1 [==============================] - 0s 33ms/step\n",
            "1/1 [==============================] - 0s 25ms/step\n",
            "1/1 [==============================] - 0s 25ms/step\n",
            "1/1 [==============================] - 0s 27ms/step\n",
            "1/1 [==============================] - 0s 23ms/step\n",
            "1/1 [==============================] - 0s 25ms/step\n",
            "1/1 [==============================] - 0s 23ms/step\n",
            "1/1 [==============================] - 0s 24ms/step\n",
            "1/1 [==============================] - 0s 23ms/step\n",
            "1/1 [==============================] - 0s 23ms/step\n",
            "1/1 [==============================] - 0s 23ms/step\n",
            "1/1 [==============================] - 0s 24ms/step\n",
            "1/1 [==============================] - 0s 30ms/step\n",
            "1/1 [==============================] - 0s 23ms/step\n",
            "1/1 [==============================] - 0s 22ms/step\n",
            "1/1 [==============================] - 0s 22ms/step\n",
            "1/1 [==============================] - 0s 22ms/step\n",
            "1/1 [==============================] - 0s 28ms/step\n",
            "1/1 [==============================] - 0s 23ms/step\n",
            "1/1 [==============================] - 0s 23ms/step\n",
            "1/1 [==============================] - 0s 28ms/step\n",
            "1/1 [==============================] - 0s 23ms/step\n",
            "1/1 [==============================] - 0s 24ms/step\n",
            "1/1 [==============================] - 0s 23ms/step\n",
            "1/1 [==============================] - 0s 25ms/step\n",
            "1/1 [==============================] - 0s 34ms/step\n",
            "1/1 [==============================] - 0s 32ms/step\n",
            "1/1 [==============================] - 0s 46ms/step\n",
            "1/1 [==============================] - 0s 40ms/step\n",
            "1/1 [==============================] - 0s 30ms/step\n",
            "1/1 [==============================] - 0s 24ms/step\n",
            "1/1 [==============================] - 0s 23ms/step\n",
            "1/1 [==============================] - 0s 28ms/step\n",
            "1/1 [==============================] - 0s 22ms/step\n",
            "1/1 [==============================] - 0s 23ms/step\n",
            "1/1 [==============================] - 0s 25ms/step\n",
            "1/1 [==============================] - 0s 23ms/step\n",
            "1/1 [==============================] - 0s 23ms/step\n",
            "1/1 [==============================] - 0s 23ms/step\n",
            "1/1 [==============================] - 0s 23ms/step\n",
            "1/1 [==============================] - 0s 29ms/step\n",
            "1/1 [==============================] - 0s 24ms/step\n",
            "1/1 [==============================] - 0s 23ms/step\n",
            "1/1 [==============================] - 0s 23ms/step\n",
            "1/1 [==============================] - 0s 22ms/step\n",
            "1/1 [==============================] - 0s 29ms/step\n",
            "1/1 [==============================] - 0s 23ms/step\n",
            "1/1 [==============================] - 0s 23ms/step\n",
            "1/1 [==============================] - 0s 23ms/step\n",
            "1/1 [==============================] - 0s 23ms/step\n",
            "1/1 [==============================] - 0s 23ms/step\n",
            "1/1 [==============================] - 0s 32ms/step\n",
            "1/1 [==============================] - 0s 23ms/step\n",
            "1/1 [==============================] - 0s 23ms/step\n",
            "1/1 [==============================] - 0s 24ms/step\n",
            "1/1 [==============================] - 0s 23ms/step\n",
            "1/1 [==============================] - 0s 25ms/step\n",
            "1/1 [==============================] - 0s 22ms/step\n",
            "1/1 [==============================] - 0s 23ms/step\n",
            "1/1 [==============================] - 0s 23ms/step\n",
            "1/1 [==============================] - 0s 22ms/step\n",
            "1/1 [==============================] - 0s 24ms/step\n"
          ]
        }
      ]
    },
    {
      "cell_type": "markdown",
      "source": [
        "**Defining and training the densely connected classifier**"
      ],
      "metadata": {
        "id": "nKxRXKUY0any"
      }
    },
    {
      "cell_type": "code",
      "source": [
        "inputs = keras.Input(shape=(5, 5, 512))\n",
        "x = layers.Flatten()(inputs)\n",
        "x = layers.Dense(256)(x)\n",
        "x = layers.Dropout(0.5)(x)\n",
        "outputs = layers.Dense(1, activation=\"sigmoid\")(x)\n",
        "model = keras.Model(inputs, outputs)\n",
        "\n",
        "model.compile(loss=\"binary_crossentropy\", optimizer=\"rmsprop\", metrics=[\"accuracy\"])"
      ],
      "metadata": {
        "id": "-_CG5AGjpzra"
      },
      "execution_count": null,
      "outputs": []
    },
    {
      "cell_type": "code",
      "source": [
        "callbacks = [\n",
        " keras.callbacks.ModelCheckpoint(\n",
        " filepath=\"feature_extraction.keras\",\n",
        " save_best_only=True,\n",
        " monitor=\"val_loss\")\n",
        "]\n",
        "history = model.fit(\n",
        " train_features, train_labels,\n",
        " epochs=20,\n",
        " validation_data=(val_features, val_labels),\n",
        " callbacks=callbacks)"
      ],
      "metadata": {
        "id": "dAiWobF9ZiSC",
        "colab": {
          "base_uri": "https://localhost:8080/"
        },
        "outputId": "346f1ccf-581e-49f0-8abd-49be3604aa35"
      },
      "execution_count": null,
      "outputs": [
        {
          "output_type": "stream",
          "name": "stdout",
          "text": [
            "Epoch 1/20\n",
            "63/63 [==============================] - 1s 10ms/step - loss: 20.7716 - accuracy: 0.9265 - val_loss: 6.5151 - val_accuracy: 0.9570\n",
            "Epoch 2/20\n",
            "63/63 [==============================] - 0s 7ms/step - loss: 3.1361 - accuracy: 0.9780 - val_loss: 5.9588 - val_accuracy: 0.9640\n",
            "Epoch 3/20\n",
            "63/63 [==============================] - 1s 8ms/step - loss: 1.5683 - accuracy: 0.9835 - val_loss: 6.9548 - val_accuracy: 0.9680\n",
            "Epoch 4/20\n",
            "63/63 [==============================] - 0s 8ms/step - loss: 0.7939 - accuracy: 0.9915 - val_loss: 6.3243 - val_accuracy: 0.9650\n",
            "Epoch 5/20\n",
            "63/63 [==============================] - 0s 8ms/step - loss: 0.2789 - accuracy: 0.9940 - val_loss: 9.3879 - val_accuracy: 0.9510\n",
            "Epoch 6/20\n",
            "63/63 [==============================] - 1s 12ms/step - loss: 0.5762 - accuracy: 0.9925 - val_loss: 6.6592 - val_accuracy: 0.9680\n",
            "Epoch 7/20\n",
            "63/63 [==============================] - 1s 10ms/step - loss: 0.9676 - accuracy: 0.9945 - val_loss: 6.5832 - val_accuracy: 0.9730\n",
            "Epoch 8/20\n",
            "63/63 [==============================] - 1s 11ms/step - loss: 0.7521 - accuracy: 0.9970 - val_loss: 6.5349 - val_accuracy: 0.9650\n",
            "Epoch 9/20\n",
            "63/63 [==============================] - 1s 14ms/step - loss: 0.5552 - accuracy: 0.9960 - val_loss: 9.6579 - val_accuracy: 0.9660\n",
            "Epoch 10/20\n",
            "63/63 [==============================] - 0s 8ms/step - loss: 0.1100 - accuracy: 0.9990 - val_loss: 9.4365 - val_accuracy: 0.9660\n",
            "Epoch 11/20\n",
            "63/63 [==============================] - 0s 8ms/step - loss: 0.3276 - accuracy: 0.9965 - val_loss: 6.8576 - val_accuracy: 0.9690\n",
            "Epoch 12/20\n",
            "63/63 [==============================] - 0s 8ms/step - loss: 7.4806e-11 - accuracy: 1.0000 - val_loss: 6.8576 - val_accuracy: 0.9690\n",
            "Epoch 13/20\n",
            "63/63 [==============================] - 1s 8ms/step - loss: 0.4075 - accuracy: 0.9965 - val_loss: 7.9060 - val_accuracy: 0.9710\n",
            "Epoch 14/20\n",
            "63/63 [==============================] - 1s 9ms/step - loss: 0.0547 - accuracy: 0.9990 - val_loss: 7.7495 - val_accuracy: 0.9700\n",
            "Epoch 15/20\n",
            "63/63 [==============================] - 0s 8ms/step - loss: 0.0370 - accuracy: 0.9990 - val_loss: 7.5507 - val_accuracy: 0.9720\n",
            "Epoch 16/20\n",
            "63/63 [==============================] - 1s 8ms/step - loss: 6.8109e-05 - accuracy: 1.0000 - val_loss: 8.0750 - val_accuracy: 0.9680\n",
            "Epoch 17/20\n",
            "63/63 [==============================] - 1s 9ms/step - loss: 0.1381 - accuracy: 0.9990 - val_loss: 8.4446 - val_accuracy: 0.9660\n",
            "Epoch 18/20\n",
            "63/63 [==============================] - 1s 8ms/step - loss: 0.0091 - accuracy: 0.9990 - val_loss: 8.5057 - val_accuracy: 0.9620\n",
            "Epoch 19/20\n",
            "63/63 [==============================] - 0s 7ms/step - loss: 0.2090 - accuracy: 0.9985 - val_loss: 6.9366 - val_accuracy: 0.9700\n",
            "Epoch 20/20\n",
            "63/63 [==============================] - 0s 7ms/step - loss: 3.4679e-24 - accuracy: 1.0000 - val_loss: 6.9366 - val_accuracy: 0.9700\n"
          ]
        }
      ]
    },
    {
      "cell_type": "markdown",
      "source": [
        "**Plotting the results**"
      ],
      "metadata": {
        "id": "p-6jfh4d2wEZ"
      }
    },
    {
      "cell_type": "code",
      "source": [
        "import matplotlib.pyplot as plt\n",
        "acc = history.history[\"accuracy\"]\n",
        "val_acc = history.history[\"val_accuracy\"]\n",
        "loss = history.history[\"loss\"]\n",
        "val_loss = history.history[\"val_loss\"]\n",
        "epochs = range(1, len(acc) + 1)\n",
        "plt.plot(epochs, acc, \"bo\", label=\"Training accuracy\")\n",
        "plt.plot(epochs, val_acc, \"b\", label=\"Validation accuracy\")\n",
        "plt.title(\"Training and validation accuracy for Feature extraction\")\n",
        "plt.legend()\n",
        "plt.figure()\n",
        "plt.plot(epochs, loss, \"bo\", label=\"Training loss\")\n",
        "plt.plot(epochs, val_loss, \"b\", label=\"Validation loss\")\n",
        "plt.title(\"Training and validation loss for feature extraction\")\n",
        "plt.legend()\n",
        "plt.show()"
      ],
      "metadata": {
        "colab": {
          "base_uri": "https://localhost:8080/",
          "height": 887
        },
        "id": "awsQvnpE2y0E",
        "outputId": "f0897c95-5094-4329-b1fc-d78e00f50f25"
      },
      "execution_count": null,
      "outputs": [
        {
          "output_type": "display_data",
          "data": {
            "text/plain": [
              "<Figure size 640x480 with 1 Axes>"
            ],
            "image/png": "[encoded data removed]"
          },
          "metadata": {}
        },
        {
          "output_type": "display_data",
          "data": {
            "text/plain": [
              "<Figure size 640x480 with 1 Axes>"
            ],
            "image/png": "[encoded data removed]"
          },
          "metadata": {}
        }
      ]
    },
    {
      "cell_type": "code",
      "source": [
        "conv_base = keras.applications.vgg16.VGG16(weights=\"imagenet\",include_top=False)\n",
        "conv_base.trainable = False"
      ],
      "metadata": {
        "id": "FeCie0CO3LGv"
      },
      "execution_count": 61,
      "outputs": []
    },
    {
      "cell_type": "code",
      "source": [
        "conv_base.summary()"
      ],
      "metadata": {
        "colab": {
          "base_uri": "https://localhost:8080/"
        },
        "id": "YJTdTCSV6317",
        "outputId": "a40f11e3-ec5a-40db-9a4b-975cd32d1640"
      },
      "execution_count": null,
      "outputs": [
        {
          "output_type": "stream",
          "name": "stdout",
          "text": [
            "Model: \"vgg16\"\n",
            "_________________________________________________________________\n",
            " Layer (type)                Output Shape              Param #   \n",
            "=================================================================\n",
            " input_16 (InputLayer)       [(None, None, None, 3)]   0         \n",
            "                                                                 \n",
            " block1_conv1 (Conv2D)       (None, None, None, 64)    1792      \n",
            "                                                                 \n",
            " block1_conv2 (Conv2D)       (None, None, None, 64)    36928     \n",
            "                                                                 \n",
            " block1_pool (MaxPooling2D)  (None, None, None, 64)    0         \n",
            "                                                                 \n",
            " block2_conv1 (Conv2D)       (None, None, None, 128)   73856     \n",
            "                                                                 \n",
            " block2_conv2 (Conv2D)       (None, None, None, 128)   147584    \n",
            "                                                                 \n",
            " block2_pool (MaxPooling2D)  (None, None, None, 128)   0         \n",
            "                                                                 \n",
            " block3_conv1 (Conv2D)       (None, None, None, 256)   295168    \n",
            "                                                                 \n",
            " block3_conv2 (Conv2D)       (None, None, None, 256)   590080    \n",
            "                                                                 \n",
            " block3_conv3 (Conv2D)       (None, None, None, 256)   590080    \n",
            "                                                                 \n",
            " block3_pool (MaxPooling2D)  (None, None, None, 256)   0         \n",
            "                                                                 \n",
            " block4_conv1 (Conv2D)       (None, None, None, 512)   1180160   \n",
            "                                                                 \n",
            " block4_conv2 (Conv2D)       (None, None, None, 512)   2359808   \n",
            "                                                                 \n",
            " block4_conv3 (Conv2D)       (None, None, None, 512)   2359808   \n",
            "                                                                 \n",
            " block4_pool (MaxPooling2D)  (None, None, None, 512)   0         \n",
            "                                                                 \n",
            " block5_conv1 (Conv2D)       (None, None, None, 512)   2359808   \n",
            "                                                                 \n",
            " block5_conv2 (Conv2D)       (None, None, None, 512)   2359808   \n",
            "                                                                 \n",
            " block5_conv3 (Conv2D)       (None, None, None, 512)   2359808   \n",
            "                                                                 \n",
            " block5_pool (MaxPooling2D)  (None, None, None, 512)   0         \n",
            "                                                                 \n",
            "=================================================================\n",
            "Total params: 14714688 (56.13 MB)\n",
            "Trainable params: 7079424 (27.01 MB)\n",
            "Non-trainable params: 7635264 (29.13 MB)\n",
            "_________________________________________________________________\n"
          ]
        }
      ]
    },
    {
      "cell_type": "markdown",
      "source": [
        "Freezing all layers"
      ],
      "metadata": {
        "id": "RnQJBALx55cz"
      }
    },
    {
      "cell_type": "code",
      "source": [
        "conv_base.trainable = True\n",
        "for layer in conv_base.layers[:-4]:\n",
        " layer.trainable = False"
      ],
      "metadata": {
        "id": "e7sz0CBk54uP"
      },
      "execution_count": 49,
      "outputs": []
    },
    {
      "cell_type": "markdown",
      "source": [
        "**Fine tuning a model**"
      ],
      "metadata": {
        "id": "h4nUWZiL3Yy-"
      }
    },
    {
      "cell_type": "code",
      "source": [
        "data_augmentation = keras.Sequential(\n",
        "    [\n",
        "        layers.RandomFlip(\"horizontal\"),\n",
        "        layers.RandomRotation(0.3),\n",
        "        layers.RandomZoom(0.5),\n",
        "    ]\n",
        ")\n",
        "\n",
        "inputs = keras.Input(shape=(180, 180, 3))\n",
        "x = data_augmentation(inputs)\n",
        "x = keras.layers.Lambda(lambda x: keras.applications.vgg16.preprocess_input(x))(x)\n",
        "x = conv_base(x)\n",
        "x = layers.Flatten()(x)\n",
        "x = layers.Dense(256)(x)\n",
        "x = layers.Dropout(0.5)(x)\n",
        "outputs = layers.Dense(1, activation=\"sigmoid\")(x)\n",
        "model = keras.Model(inputs, outputs)\n",
        "model.compile(loss=\"binary_crossentropy\",\n",
        "              optimizer=keras.optimizers.RMSprop(learning_rate=1e-5),\n",
        "              metrics=[\"accuracy\"])"
      ],
      "metadata": {
        "id": "R-PxMbRR3fUx"
      },
      "execution_count": 75,
      "outputs": []
    },
    {
      "cell_type": "markdown",
      "source": [
        "In above code we use 'lambda' function make sure that preprocessing function is correctly applied with allowing serialization"
      ],
      "metadata": {
        "id": "F0CypaDfDyIq"
      }
    },
    {
      "cell_type": "markdown",
      "source": [
        "**Training the regularized network**"
      ],
      "metadata": {
        "id": "UK59mOp-4Blb"
      }
    },
    {
      "cell_type": "code",
      "source": [
        "callbacks = [\n",
        "    keras.callbacks.ModelCheckpoint(\n",
        "        filepath=\"fine_tuning.keras\",\n",
        "        save_best_only=True,\n",
        "        monitor=\"val_loss\")\n",
        "]\n",
        "history = model.fit(\n",
        "    train_datset,\n",
        "    epochs=20,\n",
        "    validation_data=validation_datset,\n",
        "    callbacks=callbacks)"
      ],
      "metadata": {
        "colab": {
          "base_uri": "https://localhost:8080/"
        },
        "id": "LT3ClwFY4LvL",
        "outputId": "46fe157d-2e70-485d-ca7c-854d01690cb7"
      },
      "execution_count": 76,
      "outputs": [
        {
          "output_type": "stream",
          "name": "stdout",
          "text": [
            "Epoch 1/20\n",
            "63/63 [==============================] - 13s 141ms/step - loss: 7.0957 - accuracy: 0.6540 - val_loss: 1.7090 - val_accuracy: 0.8900\n",
            "Epoch 2/20\n",
            "63/63 [==============================] - 10s 148ms/step - loss: 4.6842 - accuracy: 0.7475 - val_loss: 1.2454 - val_accuracy: 0.9140\n",
            "Epoch 3/20\n",
            "63/63 [==============================] - 9s 147ms/step - loss: 3.4183 - accuracy: 0.7955 - val_loss: 0.7474 - val_accuracy: 0.9420\n",
            "Epoch 4/20\n",
            "63/63 [==============================] - 10s 156ms/step - loss: 3.2694 - accuracy: 0.8110 - val_loss: 0.6005 - val_accuracy: 0.9570\n",
            "Epoch 5/20\n",
            "63/63 [==============================] - 11s 158ms/step - loss: 2.9622 - accuracy: 0.8305 - val_loss: 0.5358 - val_accuracy: 0.9620\n",
            "Epoch 6/20\n",
            "63/63 [==============================] - 12s 178ms/step - loss: 2.6729 - accuracy: 0.8395 - val_loss: 0.5813 - val_accuracy: 0.9620\n",
            "Epoch 7/20\n",
            "63/63 [==============================] - 11s 164ms/step - loss: 2.5039 - accuracy: 0.8545 - val_loss: 0.5217 - val_accuracy: 0.9660\n",
            "Epoch 8/20\n",
            "63/63 [==============================] - 13s 191ms/step - loss: 2.2743 - accuracy: 0.8615 - val_loss: 0.5001 - val_accuracy: 0.9660\n",
            "Epoch 9/20\n",
            "63/63 [==============================] - 12s 179ms/step - loss: 1.9923 - accuracy: 0.8735 - val_loss: 0.5512 - val_accuracy: 0.9650\n",
            "Epoch 10/20\n",
            "63/63 [==============================] - 10s 147ms/step - loss: 1.9921 - accuracy: 0.8830 - val_loss: 0.5310 - val_accuracy: 0.9680\n",
            "Epoch 11/20\n",
            "63/63 [==============================] - 11s 163ms/step - loss: 2.1710 - accuracy: 0.8795 - val_loss: 0.5319 - val_accuracy: 0.9670\n",
            "Epoch 12/20\n",
            "63/63 [==============================] - 12s 177ms/step - loss: 2.0032 - accuracy: 0.8840 - val_loss: 0.5363 - val_accuracy: 0.9670\n",
            "Epoch 13/20\n",
            "63/63 [==============================] - 12s 182ms/step - loss: 1.8925 - accuracy: 0.8875 - val_loss: 0.5032 - val_accuracy: 0.9690\n",
            "Epoch 14/20\n",
            "63/63 [==============================] - 10s 152ms/step - loss: 1.8080 - accuracy: 0.8890 - val_loss: 0.5225 - val_accuracy: 0.9680\n",
            "Epoch 15/20\n",
            "63/63 [==============================] - 10s 158ms/step - loss: 1.9790 - accuracy: 0.8905 - val_loss: 0.5119 - val_accuracy: 0.9660\n",
            "Epoch 16/20\n",
            "63/63 [==============================] - 11s 176ms/step - loss: 2.0117 - accuracy: 0.8915 - val_loss: 0.5524 - val_accuracy: 0.9670\n",
            "Epoch 17/20\n",
            "63/63 [==============================] - 10s 145ms/step - loss: 1.9053 - accuracy: 0.8870 - val_loss: 0.5368 - val_accuracy: 0.9710\n",
            "Epoch 18/20\n",
            "63/63 [==============================] - 9s 140ms/step - loss: 1.7374 - accuracy: 0.8895 - val_loss: 0.5544 - val_accuracy: 0.9680\n",
            "Epoch 19/20\n",
            "63/63 [==============================] - 9s 145ms/step - loss: 1.9448 - accuracy: 0.8900 - val_loss: 0.6539 - val_accuracy: 0.9660\n",
            "Epoch 20/20\n",
            "63/63 [==============================] - 9s 145ms/step - loss: 1.7414 - accuracy: 0.8890 - val_loss: 0.5746 - val_accuracy: 0.9730\n"
          ]
        }
      ]
    },
    {
      "cell_type": "markdown",
      "source": [
        "Plotting the curves of loss and accuracy during training for fine-tuning model"
      ],
      "metadata": {
        "id": "dkVTkPGjatsd"
      }
    },
    {
      "cell_type": "code",
      "source": [
        "import matplotlib.pyplot as plt\n",
        "accuracy = history.history[\"accuracy\"]\n",
        "val_accuracy = history.history[\"val_accuracy\"]\n",
        "loss = history.history[\"loss\"]\n",
        "val_loss = history.history[\"val_loss\"]\n",
        "epochs = range(1, len(accuracy) + 1)\n",
        "plt.plot(epochs, accuracy, \"bo\", label=\"Training accuracy\")\n",
        "plt.plot(epochs, val_accuracy, \"b\", label=\"Validation accuracy\")\n",
        "plt.title(\"Training and validation accuracy\")\n",
        "plt.legend()\n",
        "plt.figure()\n",
        "plt.plot(epochs, loss, \"bo\", label=\"Training loss\")\n",
        "plt.plot(epochs, val_loss, \"b\", label=\"Validation loss\")\n",
        "plt.title(\"Training and validation loss\")\n",
        "plt.legend()\n",
        "plt.show()"
      ],
      "metadata": {
        "id": "EYfwjsmIZmgC",
        "colab": {
          "base_uri": "https://localhost:8080/",
          "height": 887
        },
        "outputId": "ede96c1d-bd04-4d03-f89a-4f2b24b68e46"
      },
      "execution_count": 52,
      "outputs": [
        {
          "output_type": "display_data",
          "data": {
            "text/plain": [
              "<Figure size 640x480 with 1 Axes>"
            ],
            "image/png": "[encoded data removed]"
          },
          "metadata": {}
        },
        {
          "output_type": "display_data",
          "data": {
            "text/plain": [
              "<Figure size 640x480 with 1 Axes>"
            ],
            "image/png": "[encoded data removed]"
          },
          "metadata": {}
        }
      ]
    },
    {
      "cell_type": "markdown",
      "source": [
        "Evaluating the test set for fine-tuning"
      ],
      "metadata": {
        "id": "QQ50acI8au2M"
      }
    },
    {
      "cell_type": "code",
      "source": [
        "model = keras.models.load_model(\"fine_tuning.keras\", safe_mode=False)\n",
        "test_loss, test_acc = model.evaluate(test_datset)\n",
        "print(f\"Test accuracy: {test_acc:.3f}\")"
      ],
      "metadata": {
        "id": "dUlH4lB6Zovg",
        "colab": {
          "base_uri": "https://localhost:8080/"
        },
        "outputId": "4d19d1c2-8fc5-4fbc-efa2-1f03eb127544"
      },
      "execution_count": 77,
      "outputs": [
        {
          "output_type": "stream",
          "name": "stdout",
          "text": [
            "32/32 [==============================] - 3s 87ms/step - loss: 0.8877 - accuracy: 0.9570\n",
            "Test accuracy: 0.957\n"
          ]
        }
      ]
    },
    {
      "cell_type": "markdown",
      "source": [
        "'safe_mode'= False indicates that we can load the model successfully"
      ],
      "metadata": {
        "id": "ujEotBsMEYfM"
      }
    },
    {
      "cell_type": "markdown",
      "source": [
        "**Pre-trianed model-8000 Training samples**\n",
        "\n",
        "same as we did above by install and freezing the VGG16 conv base."
      ],
      "metadata": {
        "id": "2yI1wt8aavrC"
      }
    },
    {
      "cell_type": "code",
      "source": [
        "conv_base  = keras.applications.vgg16.VGG16(\n",
        "    weights=\"imagenet\",\n",
        "    include_top=False,\n",
        "    input_shape=(180, 180, 3))"
      ],
      "metadata": {
        "id": "M_Jj4Z6aZpkM"
      },
      "execution_count": 78,
      "outputs": []
    },
    {
      "cell_type": "markdown",
      "source": [
        "**Fine tuning the pretrained model by freezing the layers**"
      ],
      "metadata": {
        "id": "ZoK-fUAHawQF"
      }
    },
    {
      "cell_type": "code",
      "source": [
        "conv_base  = keras.applications.vgg16.VGG16(\n",
        "    weights=\"imagenet\",\n",
        "    include_top=False)\n",
        "\n",
        "conv_base.trainable = True\n",
        "for layer in conv_base.layers[:-4]:\n",
        "    layer.trainable = False"
      ],
      "metadata": {
        "id": "DfM2syQjZrco"
      },
      "execution_count": 79,
      "outputs": []
    },
    {
      "cell_type": "markdown",
      "source": [
        "**By adding of augmentation and classifier to conv base**"
      ],
      "metadata": {
        "id": "6dunma_4aw2m"
      }
    },
    {
      "cell_type": "code",
      "source": [
        "data_augmentation = keras.Sequential(\n",
        "    [\n",
        "        layers.RandomFlip(\"horizontal\"),\n",
        "        layers.RandomRotation(0.1),\n",
        "        layers.RandomZoom(0.2),\n",
        "    ]\n",
        ")\n",
        "\n",
        "inputs = keras.Input(shape=(180, 180, 3))\n",
        "x = data_augmentation(inputs)\n",
        "x = keras.layers.Lambda(lambda x: keras.applications.vgg16.preprocess_input(x))(x)\n",
        "x = conv_base(x)\n",
        "x = layers.Flatten()(x)\n",
        "x = layers.Dense(256)(x)\n",
        "x = layers.Dropout(0.5)(x)\n",
        "outputs = layers.Dense(1, activation=\"sigmoid\")(x)\n",
        "model = keras.Model(inputs, outputs)\n",
        "model.compile(loss=\"binary_crossentropy\",\n",
        "              optimizer=keras.optimizers.RMSprop(learning_rate=1e-5),\n",
        "              metrics=[\"accuracy\"])\n",
        "\n",
        "callbacks = [\n",
        "    keras.callbacks.ModelCheckpoint(\n",
        "        filepath=\"fine_tuning2.keras\",\n",
        "        save_best_only=True,\n",
        "        monitor=\"val_loss\")\n",
        "]\n",
        "history = model.fit(\n",
        "    train_dataset_2,\n",
        "    epochs=10,\n",
        "    validation_data=validation_datset,\n",
        "    callbacks=callbacks)"
      ],
      "metadata": {
        "id": "D1Qp4IHyZt0z",
        "colab": {
          "base_uri": "https://localhost:8080/"
        },
        "outputId": "def73677-9608-413b-bfa0-fd801d7b9424"
      },
      "execution_count": 80,
      "outputs": [
        {
          "output_type": "stream",
          "name": "stdout",
          "text": [
            "Epoch 1/10\n",
            "438/438 [==============================] - 61s 120ms/step - loss: 1.1343 - accuracy: 0.8679 - val_loss: 0.1446 - val_accuracy: 0.9590\n",
            "Epoch 2/10\n",
            "438/438 [==============================] - 53s 120ms/step - loss: 0.1742 - accuracy: 0.9376 - val_loss: 0.1231 - val_accuracy: 0.9700\n",
            "Epoch 3/10\n",
            "438/438 [==============================] - 53s 120ms/step - loss: 0.1243 - accuracy: 0.9574 - val_loss: 0.1230 - val_accuracy: 0.9770\n",
            "Epoch 4/10\n",
            "438/438 [==============================] - 55s 124ms/step - loss: 0.1156 - accuracy: 0.9611 - val_loss: 0.1010 - val_accuracy: 0.9780\n",
            "Epoch 5/10\n",
            "438/438 [==============================] - 54s 122ms/step - loss: 0.0915 - accuracy: 0.9669 - val_loss: 0.1190 - val_accuracy: 0.9750\n",
            "Epoch 6/10\n",
            "438/438 [==============================] - 52s 118ms/step - loss: 0.0902 - accuracy: 0.9715 - val_loss: 0.1281 - val_accuracy: 0.9810\n",
            "Epoch 7/10\n",
            "438/438 [==============================] - 54s 123ms/step - loss: 0.0762 - accuracy: 0.9734 - val_loss: 0.1525 - val_accuracy: 0.9850\n",
            "Epoch 8/10\n",
            "438/438 [==============================] - 53s 120ms/step - loss: 0.0758 - accuracy: 0.9767 - val_loss: 0.1617 - val_accuracy: 0.9790\n",
            "Epoch 9/10\n",
            "438/438 [==============================] - 51s 116ms/step - loss: 0.0694 - accuracy: 0.9789 - val_loss: 0.1413 - val_accuracy: 0.9800\n",
            "Epoch 10/10\n",
            "438/438 [==============================] - 51s 116ms/step - loss: 0.0621 - accuracy: 0.9788 - val_loss: 0.1374 - val_accuracy: 0.9810\n"
          ]
        }
      ]
    },
    {
      "cell_type": "code",
      "source": [
        "import matplotlib.pyplot as plt\n",
        "accuracy = history.history[\"accuracy\"]\n",
        "val_accuracy = history.history[\"val_accuracy\"]\n",
        "loss = history.history[\"loss\"]\n",
        "val_loss = history.history[\"val_loss\"]\n",
        "epochs = range(1, len(accuracy) + 1)\n",
        "plt.plot(epochs, accuracy, \"bo\", label=\"Training accuracy\")\n",
        "plt.plot(epochs, val_accuracy, \"b\", label=\"Validation accuracy\")\n",
        "plt.title(\"Training and validation accuracy\")\n",
        "plt.legend()\n",
        "plt.figure()\n",
        "plt.plot(epochs, loss, \"bo\", label=\"Training loss\")\n",
        "plt.plot(epochs, val_loss, \"b\", label=\"Validation loss\")\n",
        "plt.title(\"Training and validation loss\")\n",
        "plt.legend()\n",
        "plt.show()"
      ],
      "metadata": {
        "colab": {
          "base_uri": "https://localhost:8080/",
          "height": 887
        },
        "id": "3PSonck2nd80",
        "outputId": "9a228c51-4e40-484d-c084-3568d8883a6c"
      },
      "execution_count": 82,
      "outputs": [
        {
          "output_type": "display_data",
          "data": {
            "text/plain": [
              "<Figure size 640x480 with 1 Axes>"
            ],
            "image/png": "[encoded data removed]"
          },
          "metadata": {}
        },
        {
          "output_type": "display_data",
          "data": {
            "text/plain": [
              "<Figure size 640x480 with 1 Axes>"
            ],
            "image/png": "[encoded data removed]"
          },
          "metadata": {}
        }
      ]
    },
    {
      "cell_type": "markdown",
      "source": [
        "**evaluating the model with test set**"
      ],
      "metadata": {
        "id": "jY2Mcolyaxoh"
      }
    },
    {
      "cell_type": "code",
      "source": [
        "model = keras.models.load_model(\"fine_tuning2.keras\", safe_mode = False)\n",
        "test_loss, test_acc = model.evaluate(test_datset)\n",
        "print(f\"Test accuracy: {test_acc:.3f}\")"
      ],
      "metadata": {
        "id": "EHiWZeavZ5BN",
        "colab": {
          "base_uri": "https://localhost:8080/"
        },
        "outputId": "76479749-49e9-465c-8012-e4381d067e7f"
      },
      "execution_count": 81,
      "outputs": [
        {
          "output_type": "stream",
          "name": "stdout",
          "text": [
            "32/32 [==============================] - 4s 87ms/step - loss: 0.1036 - accuracy: 0.9820\n",
            "Test accuracy: 0.982\n"
          ]
        }
      ]
    },
    {
      "cell_type": "markdown",
      "source": [
        "**Pre-trained model with 10000 samples by install and freezing the VGG16 comv base**"
      ],
      "metadata": {
        "id": "doXFVeXQayTV"
      }
    },
    {
      "cell_type": "code",
      "source": [
        "conv_base  = keras.applications.vgg16.VGG16(\n",
        "    weights=\"imagenet\",\n",
        "    include_top=False,\n",
        "    input_shape=(180, 180, 3))"
      ],
      "metadata": {
        "id": "KcYqDeeNZ506"
      },
      "execution_count": 83,
      "outputs": []
    },
    {
      "cell_type": "markdown",
      "source": [
        "**Fine tuning the pretrained model and freezing the layers except last one**"
      ],
      "metadata": {
        "id": "CbrTcY9UazCW"
      }
    },
    {
      "cell_type": "code",
      "source": [
        "conv_base  = keras.applications.vgg16.VGG16(\n",
        "    weights=\"imagenet\",\n",
        "    include_top=False)\n",
        "\n",
        "conv_base.trainable = True\n",
        "for layer in conv_base.layers[:-4]:\n",
        "    layer.trainable = False"
      ],
      "metadata": {
        "id": "elyO6cMAZ79q"
      },
      "execution_count": 84,
      "outputs": []
    },
    {
      "cell_type": "markdown",
      "source": [
        "**By adding augmentation and classifier to the conv base**"
      ],
      "metadata": {
        "id": "r7aKMSi1azom"
      }
    },
    {
      "cell_type": "code",
      "source": [
        "data_augmentation = keras.Sequential(\n",
        "    [\n",
        "        layers.RandomFlip(\"horizontal\"),\n",
        "        layers.RandomRotation(0.1),\n",
        "        layers.RandomZoom(0.2),\n",
        "    ]\n",
        ")\n",
        "\n",
        "inputs = keras.Input(shape=(180, 180, 3))\n",
        "x = data_augmentation(inputs)\n",
        "x = keras.layers.Lambda(lambda x: keras.applications.vgg16.preprocess_input(x))(x)\n",
        "x = conv_base(x)\n",
        "x = layers.Flatten()(x)\n",
        "x = layers.Dense(256)(x)\n",
        "x = layers.Dropout(0.5)(x)\n",
        "outputs = layers.Dense(1, activation=\"sigmoid\")(x)\n",
        "model = keras.Model(inputs, outputs)\n",
        "model.compile(loss=\"binary_crossentropy\",\n",
        "              optimizer=keras.optimizers.RMSprop(learning_rate=1e-5),\n",
        "              metrics=[\"accuracy\"])\n",
        "\n",
        "callbacks = [\n",
        "    keras.callbacks.ModelCheckpoint(\n",
        "        filepath=\"fine_tuning3.keras\",\n",
        "        save_best_only=True,\n",
        "        monitor=\"val_loss\")\n",
        "]\n",
        "history = model.fit(\n",
        "    train_dataset_2,\n",
        "    epochs=10,\n",
        "    validation_data=validation_datset,\n",
        "    callbacks=callbacks)"
      ],
      "metadata": {
        "id": "tamWVSvsZ-QU",
        "colab": {
          "base_uri": "https://localhost:8080/"
        },
        "outputId": "af69177d-c902-469c-83f7-1a385a87c1d6"
      },
      "execution_count": 85,
      "outputs": [
        {
          "output_type": "stream",
          "name": "stdout",
          "text": [
            "Epoch 1/10\n",
            "438/438 [==============================] - 52s 115ms/step - loss: 1.0063 - accuracy: 0.8885 - val_loss: 0.1733 - val_accuracy: 0.9680\n",
            "Epoch 2/10\n",
            "438/438 [==============================] - 51s 117ms/step - loss: 0.1899 - accuracy: 0.9421 - val_loss: 0.1292 - val_accuracy: 0.9730\n",
            "Epoch 3/10\n",
            "438/438 [==============================] - 53s 120ms/step - loss: 0.1316 - accuracy: 0.9536 - val_loss: 0.1137 - val_accuracy: 0.9700\n",
            "Epoch 4/10\n",
            "438/438 [==============================] - 52s 119ms/step - loss: 0.1079 - accuracy: 0.9624 - val_loss: 0.1309 - val_accuracy: 0.9810\n",
            "Epoch 5/10\n",
            "438/438 [==============================] - 50s 114ms/step - loss: 0.0926 - accuracy: 0.9690 - val_loss: 0.1270 - val_accuracy: 0.9750\n",
            "Epoch 6/10\n",
            "438/438 [==============================] - 51s 116ms/step - loss: 0.0856 - accuracy: 0.9726 - val_loss: 0.1343 - val_accuracy: 0.9770\n",
            "Epoch 7/10\n",
            "438/438 [==============================] - 51s 117ms/step - loss: 0.0834 - accuracy: 0.9721 - val_loss: 0.1231 - val_accuracy: 0.9770\n",
            "Epoch 8/10\n",
            "438/438 [==============================] - 51s 116ms/step - loss: 0.0711 - accuracy: 0.9759 - val_loss: 0.1834 - val_accuracy: 0.9790\n",
            "Epoch 9/10\n",
            "438/438 [==============================] - 53s 120ms/step - loss: 0.0736 - accuracy: 0.9786 - val_loss: 0.1470 - val_accuracy: 0.9790\n",
            "Epoch 10/10\n",
            "438/438 [==============================] - 53s 119ms/step - loss: 0.0658 - accuracy: 0.9784 - val_loss: 0.2098 - val_accuracy: 0.9800\n"
          ]
        }
      ]
    },
    {
      "cell_type": "markdown",
      "source": [
        "**Plotting the curves for loss and accuracy during training for fine tuning **"
      ],
      "metadata": {
        "id": "lAoxp3G5a0mG"
      }
    },
    {
      "cell_type": "code",
      "source": [
        "import matplotlib.pyplot as plt\n",
        "accuracy = history.history[\"accuracy\"]\n",
        "val_accuracy = history.history[\"val_accuracy\"]\n",
        "loss = history.history[\"loss\"]\n",
        "val_loss = history.history[\"val_loss\"]\n",
        "epochs = range(1, len(accuracy) + 1)\n",
        "plt.plot(epochs, accuracy, \"bo\", label=\"Training accuracy\")\n",
        "plt.plot(epochs, val_accuracy, \"b\", label=\"Validation accuracy\")\n",
        "plt.title(\"Training and validation accuracy\")\n",
        "plt.legend()\n",
        "plt.figure()\n",
        "plt.plot(epochs, loss, \"bo\", label=\"Training loss\")\n",
        "plt.plot(epochs, val_loss, \"b\", label=\"Validation loss\")\n",
        "plt.title(\"Training and validation loss\")\n",
        "plt.legend()\n",
        "plt.show()"
      ],
      "metadata": {
        "id": "tNcz9M4taTa7",
        "colab": {
          "base_uri": "https://localhost:8080/",
          "height": 887
        },
        "outputId": "2aaf9b6a-139d-4e07-dee8-26d22eb77b6f"
      },
      "execution_count": 86,
      "outputs": [
        {
          "output_type": "display_data",
          "data": {
            "text/plain": [
              "<Figure size 640x480 with 1 Axes>"
            ],
            "image/png": "[encoded data removed]"
          },
          "metadata": {}
        },
        {
          "output_type": "display_data",
          "data": {
            "text/plain": [
              "<Figure size 640x480 with 1 Axes>"
            ],
            "image/png": "[encoded data removed]"
          },
          "metadata": {}
        }
      ]
    },
    {
      "cell_type": "markdown",
      "source": [
        "**Evaluating the model with test set**"
      ],
      "metadata": {
        "id": "F1gs-hJea1Tx"
      }
    },
    {
      "cell_type": "code",
      "source": [
        "model = keras.models.load_model(\"fine_tuning3.keras\", safe_mode = False)\n",
        "test_loss, test_acc = model.evaluate(test_datset)\n",
        "print(f\"Test accuracy: {test_acc:.3f}\")"
      ],
      "metadata": {
        "id": "2m3N7WvpaVzK",
        "colab": {
          "base_uri": "https://localhost:8080/"
        },
        "outputId": "c2b9f9fb-8545-4ded-d252-0abb419c125b"
      },
      "execution_count": 87,
      "outputs": [
        {
          "output_type": "stream",
          "name": "stdout",
          "text": [
            "32/32 [==============================] - 4s 87ms/step - loss: 0.1203 - accuracy: 0.9760\n",
            "Test accuracy: 0.976\n"
          ]
        }
      ]
    }
  ]
}